{
 "cells": [
  {
   "cell_type": "markdown",
   "metadata": {},
   "source": [
    "# Metaclasses\n",
    "\n",
    "[https://realpython.com/python-metaclasses/]\n",
    "\n",
    "What is metaprogramming / metaclasses?\n",
    "\n",
    "**Metaprogramming** refers to teh ability of a program to 'know' itself, and be able to manipulate itself. The way Python implements this is by Metaclasses.\n",
    "\n",
    "Number 1 lesson: you don't need to use metaclasses. But it is helpful to know how metaclasses work\n",
    "\n",
    "### Old and new style classes\n",
    "In old-style, `class` and `type` were different things. In new-style, the ideas of a class and a type are unified."
   ]
  },
  {
   "cell_type": "code",
   "execution_count": 1,
   "metadata": {},
   "outputs": [
    {
     "name": "stdout",
     "output_type": "stream",
     "text": [
      "<class '__main__.Foo'>\n",
      "<class '__main__.Foo'>\n"
     ]
    },
    {
     "data": {
      "text/plain": [
       "True"
      ]
     },
     "execution_count": 1,
     "metadata": {},
     "output_type": "execute_result"
    }
   ],
   "source": [
    "class Foo:\n",
    "    pass\n",
    "\n",
    "obj = Foo()\n",
    "print(obj.__class__)\n",
    "print(type(obj))\n",
    "obj.__class__ == type(obj)"
   ]
  },
  {
   "cell_type": "markdown",
   "metadata": {},
   "source": [
    "in old style, type(obj) would've been 'instance'. In Python 3 `obj.__class__ == type(obj)` for any object, simple or complex, you can specify.\n",
    "\n",
    "Remember, everything is an object. Classes are objects, and the 'type' of Classes is `type`. "
   ]
  },
  {
   "cell_type": "code",
   "execution_count": 2,
   "metadata": {},
   "outputs": [
    {
     "name": "stdout",
     "output_type": "stream",
     "text": [
      "Foo --> <class 'type'>\n",
      "x --> <class '__main__.Foo'>\n",
      "int --> <class 'type'>\n",
      "type --> <class 'type'>\n"
     ]
    }
   ],
   "source": [
    "print('Foo -->',type(Foo))\n",
    "x = Foo()\n",
    "print('x -->',type(x))\n",
    "\n",
    "# the same holds for builtin classes\n",
    "print('int -->',type(int))\n",
    "\n",
    "# and, inception style, for type itself\n",
    "print('type -->',type(type))"
   ]
  },
  {
   "cell_type": "markdown",
   "metadata": {},
   "source": [
    "`type` is an object, and the type is `type`\n",
    "\n",
    "`type` is a metaclass, of which classes are instances. Every class is an instance of the `type` metaclass.\n",
    "\n",
    "So\n",
    "\n",
    "* `x` is an instance of class `Foo`\n",
    "* `Foo` is an instance of metaclass `type`\n",
    "* `type` is and instance of metaclass `type`\n",
    "\n",
    "## Dynamically defining a class\n",
    "\n",
    "the function `type()` when passed one argument, returns the type of an object (generally `obj.__class__`, as we saw above).\n",
    "\n",
    "You can calso call `type()` with 3 args, `type(<name>, <bases>, <dct>)`, which creates a new instance of the `type` metaclass. **i.e. it dynamically creates a new class**\n",
    "\n",
    "* `<name>` specifies the name class it becomes `__name__` attr\n",
    "* `<bases>` specifies a tuple of the base classes from which the class inherits. It becomes `__bases__`\n",
    "* `<dct>` specifies a namespace dict containing definitions for the class body. It becomes `__dict__`\n",
    "\n",
    "### Example 1\n",
    "Create a class `Foo` with 2 objects, `attr` and  `attr_val`\n",
    "#### using `type()`"
   ]
  },
  {
   "cell_type": "code",
   "execution_count": 3,
   "metadata": {},
   "outputs": [
    {
     "name": "stdout",
     "output_type": "stream",
     "text": [
      "100\n",
      "500\n"
     ]
    }
   ],
   "source": [
    "Foo = type('Foo',(),{'attr':100, 'attr_val':lambda x:x.attr*5}) # objects are passed via namespace\n",
    "\n",
    "x=Foo()\n",
    "print(x.attr)\n",
    "print(x.attr_val())"
   ]
  },
  {
   "cell_type": "markdown",
   "metadata": {},
   "source": [
    "#### Trad way"
   ]
  },
  {
   "cell_type": "code",
   "execution_count": 4,
   "metadata": {},
   "outputs": [
    {
     "name": "stdout",
     "output_type": "stream",
     "text": [
      "100\n",
      "500\n"
     ]
    }
   ],
   "source": [
    "class Foo:\n",
    "    attr = 100\n",
    "    def attr_val(self):\n",
    "        return self.attr*5\n",
    "\n",
    "x=Foo()\n",
    "print(x.attr)\n",
    "print(x.attr_val())"
   ]
  },
  {
   "cell_type": "markdown",
   "metadata": {},
   "source": [
    "### Example with inheritance"
   ]
  },
  {
   "cell_type": "code",
   "execution_count": 5,
   "metadata": {},
   "outputs": [
    {
     "name": "stdout",
     "output_type": "stream",
     "text": [
      "100\n",
      "500\n",
      "200\n"
     ]
    }
   ],
   "source": [
    "Bar = type('Bar',(Foo,),{'attr_bar':200})\n",
    "\n",
    "y = Bar()\n",
    "print(y.attr)\n",
    "print(y.attr_val())\n",
    "print(y.attr_bar)"
   ]
  },
  {
   "cell_type": "markdown",
   "metadata": {},
   "source": [
    "### Example with more function passed without lambda\n"
   ]
  },
  {
   "cell_type": "code",
   "execution_count": 6,
   "metadata": {},
   "outputs": [
    {
     "name": "stdout",
     "output_type": "stream",
     "text": [
      "attr= 100\n"
     ]
    }
   ],
   "source": [
    "def print_attr(obj):\n",
    "    print('attr=', obj.attr)\n",
    "    \n",
    "Foo = type('Foo',(),{'attr':100,'print_attr':print_attr})\n",
    "\n",
    "x=Foo()\n",
    "x.print_attr()\n"
   ]
  },
  {
   "cell_type": "markdown",
   "metadata": {},
   "source": [
    "## Custom Metaclasses\n",
    "\n",
    "What happens when you input `f = Foo()`? You call the `__call__()` method of the `Foo` class, which in turn calls the `__new__()` and `__init__()` methods.\n",
    "\n",
    "by default these are inherited from `Foo`'s parent class, but the can be overwritten"
   ]
  },
  {
   "cell_type": "code",
   "execution_count": 7,
   "metadata": {},
   "outputs": [
    {
     "data": {
      "text/plain": [
       "100"
      ]
     },
     "execution_count": 7,
     "metadata": {},
     "output_type": "execute_result"
    }
   ],
   "source": [
    "def new(cls):\n",
    "    x = object.__new__(cls)\n",
    "    x.attr = 100\n",
    "    return x\n",
    "\n",
    "class Foo:\n",
    "    pass\n",
    "\n",
    "Foo.__new__ = new\n",
    "\n",
    "f = Foo()\n",
    "f.attr\n"
   ]
  },
  {
   "cell_type": "markdown",
   "metadata": {},
   "source": [
    "(note typically it is `__init__` that is modified, not `__new__`)\n",
    "\n",
    "If you tried to follow the pattern so that *every* new Class you created had the `attr = 100`, you might thing you could set `type.__new__ = new`. But that doesn't work: Python blocks you from modifying attributes of type `type`.\n",
    "\n",
    "If you really want to mess around with how new classes are created, you would create a new meta class, deriving from `type` (which automatically makes `Meta` a metaclass). \n",
    "\n",
    "To create new class you would specify that `metaclass=Meta`)\n",
    "\n",
    "**A reminder that you should not actually do this in your code**"
   ]
  },
  {
   "cell_type": "code",
   "execution_count": 8,
   "metadata": {},
   "outputs": [
    {
     "data": {
      "text/plain": [
       "100"
      ]
     },
     "execution_count": 8,
     "metadata": {},
     "output_type": "execute_result"
    }
   ],
   "source": [
    "class Meta(type):\n",
    "    def __new__(cls, name, bases, dct):\n",
    "        new_class = super().__new__(cls, name, bases, dct)\n",
    "        new_class.attr = 100\n",
    "        return new_class\n",
    "    \n",
    "class Foo(metaclass = Meta):\n",
    "    pass\n",
    "\n",
    "Foo.attr"
   ]
  },
  {
   "cell_type": "markdown",
   "metadata": {},
   "source": [
    "## Factory concept\n",
    "You can think of a Class as a 'factory' which produces objects.\n",
    "\n",
    "In the same way, a Metaclass is a factory for producing classes, a 'class factory'\n",
    "\n",
    "## What's the point?\n",
    "As mentioned a couple of times, you should **not use custom Metaclasses in your code**. There's usually a better way to achieve the same thing.\n",
    "\n",
    "The example above can easily be replicated by simple inheritance, or class decorators:"
   ]
  },
  {
   "cell_type": "code",
   "execution_count": 9,
   "metadata": {},
   "outputs": [
    {
     "data": {
      "text/plain": [
       "100"
      ]
     },
     "execution_count": 9,
     "metadata": {},
     "output_type": "execute_result"
    }
   ],
   "source": [
    "def attr_adder(cls):\n",
    "    class NewClass(cls):\n",
    "        attr = 100\n",
    "    return NewClass\n",
    "\n",
    "@attr_adder\n",
    "class X:\n",
    "    pass\n",
    "\n",
    "X.attr"
   ]
  }
 ],
 "metadata": {
  "kernelspec": {
   "display_name": "Python 3",
   "language": "python",
   "name": "python3"
  },
  "language_info": {
   "codemirror_mode": {
    "name": "ipython",
    "version": 3
   },
   "file_extension": ".py",
   "mimetype": "text/x-python",
   "name": "python",
   "nbconvert_exporter": "python",
   "pygments_lexer": "ipython3",
   "version": "3.7.2"
  }
 },
 "nbformat": 4,
 "nbformat_minor": 2
}
