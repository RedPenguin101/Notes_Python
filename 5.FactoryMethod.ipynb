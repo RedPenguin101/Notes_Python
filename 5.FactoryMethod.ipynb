{
 "cells": [
  {
   "cell_type": "markdown",
   "metadata": {},
   "source": [
    "# The Factory Method Pattern and Its Implementation in Python\n",
    "\n",
    "https://realpython.com/factory-method-python/\n",
    "\n",
    "Factory Method is a creational design pattern used to create concrete implementations of a common interface.\n",
    "\n",
    "Seperates *creation* of object from code that depends on the interface of the object\n",
    "\n",
    "It can replace complex and ugly `if/elif/else` statements"
   ]
  },
  {
   "cell_type": "code",
   "execution_count": 1,
   "metadata": {},
   "outputs": [],
   "source": [
    "# song serializer demo - no factory\n",
    "import json\n",
    "import xml.etree.ElementTree as et\n",
    "\n",
    "class Song:\n",
    "    def __init__(self, song_id, title, artist):\n",
    "        self.song_id = song_id\n",
    "        self.title = title\n",
    "        self.artist = artist\n",
    "        \n",
    "class SongSerializer:\n",
    "    def serialize(self, song, format):\n",
    "        if format == 'JSON':\n",
    "            song_info = {\n",
    "                'id':song.song_id,\n",
    "                'title':song.title,\n",
    "                'artist':song.artist\n",
    "            }\n",
    "            return json.dumps(song_info)\n",
    "        elif format == 'XML':\n",
    "            song_info = et.Element('song', attrib={'id':song.song_id})\n",
    "            title = et.SubElement(song_info, 'title')\n",
    "            title.text = song.title\n",
    "            artist = et.SubElement(song_info, 'artist')\n",
    "            artist.text = song.artist\n",
    "            return et.tostring(song_info, encoding='unicode')\n",
    "        else:\n",
    "            raise ValueError(format)"
   ]
  },
  {
   "cell_type": "code",
   "execution_count": 3,
   "metadata": {},
   "outputs": [
    {
     "data": {
      "text/plain": [
       "'{\"id\": \"1\", \"title\": \"Water of Love\", \"artist\": \"Dire Straits\"}'"
      ]
     },
     "execution_count": 3,
     "metadata": {},
     "output_type": "execute_result"
    }
   ],
   "source": [
    "song = Song('1', 'Water of Love', 'Dire Straits')\n",
    "serializer = SongSerializer()\n",
    "serializer.serialize(song, 'JSON')"
   ]
  },
  {
   "cell_type": "code",
   "execution_count": 4,
   "metadata": {},
   "outputs": [
    {
     "data": {
      "text/plain": [
       "'<song id=\"1\"><title>Water of Love</title><artist>Dire Straits</artist></song>'"
      ]
     },
     "execution_count": 4,
     "metadata": {},
     "output_type": "execute_result"
    }
   ],
   "source": [
    "serializer.serialize(song, 'XML')"
   ]
  },
  {
   "cell_type": "markdown",
   "metadata": {},
   "source": [
    "the code above is doing too much. The single responsibility principle states that a module, a class, or even a method should have a single, well-defined responsibility. It should do just one thing and have only one reason to change.\n",
    "\n",
    "the serialize method here is:\n",
    "* interpreting the format\n",
    "* directing the correct path based on the format\n",
    "* creating the output\n",
    "\n",
    "because of this the `serialize` method will need to change whenever\n",
    "* a new format is introduced\n",
    "* the `Song` changes\n",
    "* when a format changes \n",
    "\n",
    "## common interface\n",
    "The code above converts a song object to its string representation using a different format in each logical path. \n",
    "1. Look for a common interface that can be used to replace each of the paths, \n",
    "2. provide separate implementations for each logical path\n",
    "3. provide a separate component that decides how to implement by evaulating `format`, and returns the implementation"
   ]
  },
  {
   "cell_type": "code",
   "execution_count": 9,
   "metadata": {},
   "outputs": [],
   "source": [
    "class SongSerializer:\n",
    "    def serialize(self, song, format):\n",
    "        if format == 'JSON':\n",
    "            return self._serialize_to_JSON(song)\n",
    "        elif format == 'XML':\n",
    "            return self._serialize_to_XML(song)\n",
    "        else:\n",
    "            raise ValueError(format)\n",
    "            \n",
    "    def _serialize_to_JSON(self, song):        \n",
    "            song_info = {\n",
    "                'id':song.song_id,\n",
    "                'title':song.title,\n",
    "                'artist':song.artist\n",
    "            }\n",
    "            return json.dumps(song_info)\n",
    "        \n",
    "    def _serialize_to_XML(self, song):\n",
    "            song_info = et.Element('song', attrib={'id':song.song_id})\n",
    "            title = et.SubElement(song_info, 'title')\n",
    "            title.text = song.title\n",
    "            artist = et.SubElement(song_info, 'artist')\n",
    "            artist.text = song.artist\n",
    "            return et.tostring(song_info, encoding='unicode')"
   ]
  },
  {
   "cell_type": "code",
   "execution_count": 10,
   "metadata": {},
   "outputs": [
    {
     "data": {
      "text/plain": [
       "'{\"id\": \"1\", \"title\": \"Water of Love\", \"artist\": \"Dire Straits\"}'"
      ]
     },
     "execution_count": 10,
     "metadata": {},
     "output_type": "execute_result"
    }
   ],
   "source": [
    "song = Song('1', 'Water of Love', 'Dire Straits')\n",
    "serializer = SongSerializer()\n",
    "serializer.serialize(song, 'JSON')"
   ]
  },
  {
   "cell_type": "code",
   "execution_count": 11,
   "metadata": {},
   "outputs": [
    {
     "data": {
      "text/plain": [
       "'<song id=\"1\"><title>Water of Love</title><artist>Dire Straits</artist></song>'"
      ]
     },
     "execution_count": 11,
     "metadata": {},
     "output_type": "execute_result"
    }
   ],
   "source": [
    "serializer.serialize(song, 'XML')"
   ]
  },
  {
   "cell_type": "markdown",
   "metadata": {},
   "source": [
    "## Factory\n",
    "\n",
    "provide a separate component with the responsibility to decide which concrete implementation should be used based on some specified parameter.\n",
    "\n",
    "add a new method `._get_serializer()` that takes the desired `format` - it returns a *function*, not data"
   ]
  },
  {
   "cell_type": "code",
   "execution_count": 12,
   "metadata": {},
   "outputs": [],
   "source": [
    "class SongSerializer:\n",
    "    def serialize(self, song, format):\n",
    "        serializer = self._get_serializer(format)\n",
    "        return serializer(song)\n",
    "            \n",
    "    def _get_serializer(self, format):\n",
    "        if format == 'JSON':\n",
    "            return self._serialize_to_JSON\n",
    "        elif format == 'XML':\n",
    "            return self._serialize_to_XML\n",
    "        else:\n",
    "            raise ValueError(format)\n",
    "            \n",
    "    def _serialize_to_JSON(self, song):        \n",
    "            song_info = {\n",
    "                'id':song.song_id,\n",
    "                'title':song.title,\n",
    "                'artist':song.artist\n",
    "            }\n",
    "            return json.dumps(song_info)\n",
    "        \n",
    "    def _serialize_to_XML(self, song):\n",
    "            song_info = et.Element('song', attrib={'id':song.song_id})\n",
    "            title = et.SubElement(song_info, 'title')\n",
    "            title.text = song.title\n",
    "            artist = et.SubElement(song_info, 'artist')\n",
    "            artist.text = song.artist\n",
    "            return et.tostring(song_info, encoding='unicode')"
   ]
  },
  {
   "cell_type": "code",
   "execution_count": 13,
   "metadata": {},
   "outputs": [
    {
     "data": {
      "text/plain": [
       "'{\"id\": \"1\", \"title\": \"Water of Love\", \"artist\": \"Dire Straits\"}'"
      ]
     },
     "execution_count": 13,
     "metadata": {},
     "output_type": "execute_result"
    }
   ],
   "source": [
    "song = Song('1', 'Water of Love', 'Dire Straits')\n",
    "serializer = SongSerializer()\n",
    "serializer.serialize(song, 'JSON')"
   ]
  },
  {
   "cell_type": "code",
   "execution_count": 14,
   "metadata": {},
   "outputs": [
    {
     "data": {
      "text/plain": [
       "'<song id=\"1\"><title>Water of Love</title><artist>Dire Straits</artist></song>'"
      ]
     },
     "execution_count": 14,
     "metadata": {},
     "output_type": "execute_result"
    }
   ],
   "source": [
    "serializer.serialize(song, 'XML')"
   ]
  },
  {
   "cell_type": "markdown",
   "metadata": {},
   "source": [
    "## Compenents and additional pattern\n",
    "\n",
    "Here:\n",
    "* `serialize` is the *client* - it depends on an interface to complete its task\n",
    "* the two funcs that take the song and return a string rep are *product* components, the implementation.\n",
    "* `_get_serializer` is the *creator* component - it decides what implementation should be used.\n",
    "\n",
    "Note that the creators and product don't use the self parameter. As rule of thumb, this is a sign you should take the methods out of the class. "
   ]
  },
  {
   "cell_type": "code",
   "execution_count": 20,
   "metadata": {},
   "outputs": [],
   "source": [
    "class SongSerializer:\n",
    "    def serialize(self, song, format):\n",
    "        serializer = get_serializer(format)\n",
    "        return serializer(song)\n",
    "            \n",
    "def get_serializer(format):\n",
    "    if format == 'JSON':\n",
    "        return _serialize_to_JSON\n",
    "    elif format == 'XML':\n",
    "        return _serialize_to_XML\n",
    "    else:\n",
    "        raise ValueError(format)\n",
    "            \n",
    "def _serialize_to_JSON(song):        \n",
    "    song_info = {\n",
    "        'id':song.song_id,\n",
    "        'title':song.title,\n",
    "        'artist':song.artist\n",
    "    }\n",
    "    return json.dumps(song_info)\n",
    "        \n",
    "def _serialize_to_XML(song):\n",
    "    song_info = et.Element('song', attrib={'id':song.song_id})\n",
    "    title = et.SubElement(song_info, 'title')\n",
    "    title.text = song.title\n",
    "    artist = et.SubElement(song_info, 'artist')\n",
    "    artist.text = song.artist\n",
    "    return et.tostring(song_info, encoding='unicode')"
   ]
  },
  {
   "cell_type": "code",
   "execution_count": 21,
   "metadata": {},
   "outputs": [
    {
     "data": {
      "text/plain": [
       "'{\"id\": \"1\", \"title\": \"Water of Love\", \"artist\": \"Dire Straits\"}'"
      ]
     },
     "execution_count": 21,
     "metadata": {},
     "output_type": "execute_result"
    }
   ],
   "source": [
    "song = Song('1', 'Water of Love', 'Dire Straits')\n",
    "serializer = SongSerializer()\n",
    "serializer.serialize(song, 'JSON')"
   ]
  },
  {
   "cell_type": "code",
   "execution_count": null,
   "metadata": {},
   "outputs": [],
   "source": []
  },
  {
   "cell_type": "code",
   "execution_count": null,
   "metadata": {},
   "outputs": [],
   "source": []
  }
 ],
 "metadata": {
  "kernelspec": {
   "display_name": "Python 3",
   "language": "python",
   "name": "python3"
  },
  "language_info": {
   "codemirror_mode": {
    "name": "ipython",
    "version": 3
   },
   "file_extension": ".py",
   "mimetype": "text/x-python",
   "name": "python",
   "nbconvert_exporter": "python",
   "pygments_lexer": "ipython3",
   "version": "3.7.2"
  }
 },
 "nbformat": 4,
 "nbformat_minor": 2
}
