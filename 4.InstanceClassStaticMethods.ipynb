{
 "cells": [
  {
   "cell_type": "markdown",
   "metadata": {},
   "source": [
    "# Python's Instance, Class, and Static Methods Demystified\n",
    "\n",
    "https://realpython.com/instance-class-and-static-methods-demystified/\n",
    "\n"
   ]
  },
  {
   "cell_type": "code",
   "execution_count": 1,
   "metadata": {},
   "outputs": [],
   "source": [
    "# an example class containing all 3 types\n",
    "class MyClass:\n",
    "    def method(self):\n",
    "        return 'instance method called', self\n",
    "    \n",
    "    @classmethod\n",
    "    def classmethod(cls):\n",
    "        return 'class method called', cls\n",
    "    \n",
    "    @staticmethod\n",
    "    def staticmethod():\n",
    "        return 'static method called'"
   ]
  },
  {
   "cell_type": "markdown",
   "metadata": {},
   "source": [
    "## Instance method\n",
    "Basic, no frills. `self` refers to the instance that it calling it. It uses the `self` parameter to access other attributes and methods of the instance.\n",
    "\n",
    "Instance methods can also access and modify the parent class itself by the `self.__class__` attribute.\n",
    "\n",
    "## Class methods\n",
    "instead of `self` it takes the `cls` (class) argument. Because of this it can't touch individual instances of the class.\n",
    "\n",
    "## Static methods\n",
    "take neither `cls` or `self` arguments. Primarily used to namespace your methods\n",
    "\n",
    "> A namespace is basically a system to make sure that all the names in a program are unique and can be used without any conflict. Python implements namespaces as dictionaries."
   ]
  },
  {
   "cell_type": "code",
   "execution_count": 2,
   "metadata": {},
   "outputs": [
    {
     "data": {
      "text/plain": [
       "('instance method called', <__main__.MyClass at 0x7efe45778550>)"
      ]
     },
     "execution_count": 2,
     "metadata": {},
     "output_type": "execute_result"
    }
   ],
   "source": [
    "obj = MyClass()\n",
    "obj.method()\n",
    "# note reference to an instance"
   ]
  },
  {
   "cell_type": "code",
   "execution_count": 3,
   "metadata": {},
   "outputs": [
    {
     "data": {
      "text/plain": [
       "('instance method called', <__main__.MyClass at 0x7efe45778550>)"
      ]
     },
     "execution_count": 3,
     "metadata": {},
     "output_type": "execute_result"
    }
   ],
   "source": [
    "# equivalent method of calling method\n",
    "MyClass.method(obj)"
   ]
  },
  {
   "cell_type": "code",
   "execution_count": 4,
   "metadata": {},
   "outputs": [
    {
     "data": {
      "text/plain": [
       "('class method called', __main__.MyClass)"
      ]
     },
     "execution_count": 4,
     "metadata": {},
     "output_type": "execute_result"
    }
   ],
   "source": [
    "obj.classmethod()\n",
    "# note no reference to an instance"
   ]
  },
  {
   "cell_type": "code",
   "execution_count": 5,
   "metadata": {},
   "outputs": [
    {
     "data": {
      "text/plain": [
       "'static method called'"
      ]
     },
     "execution_count": 5,
     "metadata": {},
     "output_type": "execute_result"
    }
   ],
   "source": [
    "obj.staticmethod()\n",
    "# note no reference"
   ]
  },
  {
   "cell_type": "code",
   "execution_count": 6,
   "metadata": {},
   "outputs": [
    {
     "data": {
      "text/plain": [
       "Pizza(['cheese', 'tomatoes'])"
      ]
     },
     "execution_count": 6,
     "metadata": {},
     "output_type": "execute_result"
    }
   ],
   "source": [
    "class Pizza:\n",
    "    def __init__(self, ingredients):\n",
    "        self.ingredients = ingredients\n",
    "        \n",
    "    def __repr__(self):\n",
    "        return f'Pizza({self.ingredients!r})'\n",
    "    \n",
    "Pizza(['cheese', 'tomatoes'])"
   ]
  },
  {
   "cell_type": "markdown",
   "metadata": {},
   "source": [
    "## Class methods as factories\n"
   ]
  },
  {
   "cell_type": "code",
   "execution_count": 7,
   "metadata": {},
   "outputs": [
    {
     "data": {
      "text/plain": [
       "Pizza(['mozzarella', 'tomatoes'])"
      ]
     },
     "execution_count": 7,
     "metadata": {},
     "output_type": "execute_result"
    }
   ],
   "source": [
    "class Pizza:\n",
    "    def __init__(self, ingredients):\n",
    "        self.ingredients = ingredients\n",
    "        \n",
    "    def __repr__(self):\n",
    "        return f'Pizza({self.ingredients!r})'\n",
    "        \n",
    "    @classmethod \n",
    "    def margherita(cls):\n",
    "        return cls(['mozzarella', 'tomatoes'])\n",
    "    \n",
    "    @classmethod\n",
    "    def prosciutto(cls):\n",
    "        return cls(['mozzerella','tomatoes','ham'])\n",
    "    \n",
    "Pizza.margherita()"
   ]
  },
  {
   "cell_type": "code",
   "execution_count": 8,
   "metadata": {},
   "outputs": [
    {
     "data": {
      "text/plain": [
       "Pizza(['mozzerella', 'tomatoes', 'ham'])"
      ]
     },
     "execution_count": 8,
     "metadata": {},
     "output_type": "execute_result"
    }
   ],
   "source": [
    "Pizza.prosciutto()"
   ]
  },
  {
   "cell_type": "markdown",
   "metadata": {},
   "source": [
    "### Class methods as alternative constructors"
   ]
  },
  {
   "cell_type": "code",
   "execution_count": null,
   "metadata": {},
   "outputs": [],
   "source": []
  },
  {
   "cell_type": "code",
   "execution_count": 9,
   "metadata": {},
   "outputs": [],
   "source": [
    "import math\n",
    "\n",
    "class Pizza:\n",
    "    def __init__(self, radius, ingredients):\n",
    "        self.radius = radius\n",
    "        self.ingredients = ingredients\n",
    "\n",
    "    def __repr__(self):\n",
    "        return (f'Pizza({self.radius!r}, '\n",
    "                f'{self.ingredients!r})')\n",
    "\n",
    "    def area(self):\n",
    "        return self.circle_area(self.radius)\n",
    "\n",
    "    @staticmethod\n",
    "    def circle_area(r):\n",
    "        return r ** 2 * math.pi"
   ]
  },
  {
   "cell_type": "code",
   "execution_count": 10,
   "metadata": {},
   "outputs": [
    {
     "data": {
      "text/plain": [
       "50.26548245743669"
      ]
     },
     "execution_count": 10,
     "metadata": {},
     "output_type": "execute_result"
    }
   ],
   "source": [
    "p = Pizza(4, ['mozzeralla','tomatoes'])\n",
    "p.area()"
   ]
  },
  {
   "cell_type": "code",
   "execution_count": 11,
   "metadata": {},
   "outputs": [
    {
     "data": {
      "text/plain": [
       "50.26548245743669"
      ]
     },
     "execution_count": 11,
     "metadata": {},
     "output_type": "execute_result"
    }
   ],
   "source": [
    "Pizza.circle_area(4)"
   ]
  },
  {
   "cell_type": "markdown",
   "metadata": {},
   "source": [
    "Flagging a method as a static method is not just a hint that a method won’t modify class or instance state — this restriction is also enforced by the Python runtime.\n",
    "\n",
    "Techniques like that allow you to communicate clearly about parts of your class architecture so that new development work is naturally guided to happen within these set boundaries. Of course, it would be easy enough to defy these restrictions. But in practice they often help avoid accidental modifications going against the original design."
   ]
  },
  {
   "cell_type": "markdown",
   "metadata": {},
   "source": [
    "## Trying something"
   ]
  },
  {
   "cell_type": "code",
   "execution_count": 12,
   "metadata": {},
   "outputs": [],
   "source": [
    "import math\n",
    "\n",
    "class Pizza:\n",
    "    def __init__(self, radius, ingredients):\n",
    "        self.radius = radius\n",
    "        self.ingredients = ingredients\n",
    "\n",
    "    def __repr__(self):\n",
    "        return (f'Pizza({self.radius!r}, '\n",
    "                f'{self.ingredients!r})')\n",
    "    \n",
    "    @property\n",
    "    def area(self):\n",
    "        return self.circle_area(self.radius)\n",
    "\n",
    "    @staticmethod\n",
    "    def circle_area(r):\n",
    "        return r ** 2 * math.pi"
   ]
  },
  {
   "cell_type": "code",
   "execution_count": 13,
   "metadata": {},
   "outputs": [
    {
     "data": {
      "text/plain": [
       "50.26548245743669"
      ]
     },
     "execution_count": 13,
     "metadata": {},
     "output_type": "execute_result"
    }
   ],
   "source": [
    "p = Pizza(4, ['mozzeralla','tomatoes'])\n",
    "p.area"
   ]
  }
 ],
 "metadata": {
  "kernelspec": {
   "display_name": "Python 3",
   "language": "python",
   "name": "python3"
  },
  "language_info": {
   "codemirror_mode": {
    "name": "ipython",
    "version": 3
   },
   "file_extension": ".py",
   "mimetype": "text/x-python",
   "name": "python",
   "nbconvert_exporter": "python",
   "pygments_lexer": "ipython3",
   "version": "3.6.7"
  }
 },
 "nbformat": 4,
 "nbformat_minor": 2
}
