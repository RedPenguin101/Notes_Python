{
 "cells": [
  {
   "cell_type": "markdown",
   "metadata": {},
   "source": [
    "# ports and adapters with command handler patterns"
   ]
  },
  {
   "cell_type": "code",
   "execution_count": 1,
   "metadata": {},
   "outputs": [],
   "source": [
    "from typing import NamedTuple"
   ]
  },
  {
   "cell_type": "markdown",
   "metadata": {},
   "source": [
    "Architecture style: ports and adapters\n",
    "Design pattern: Command handler\n",
    "\n",
    "keeping business logic in model objects, no bleeding into controllers, no fat manager classes. \n",
    "\n",
    "complexity upfront to avoid accidental complexity down the road\n",
    "\n",
    "building an issue management system\n",
    "\n",
    "> First story: as a user I want to be able to report a new issue\n",
    "\n",
    "3 architechture principles\n",
    "\n",
    "1. we will always define where our use case begins and ends. no business processes strewn all over the codebase\n",
    "2. depend on abstractions, not concrete implementations\n",
    "3. glue code is distinct from business logic. put it in the right place\n",
    "\n",
    "define the domain model. encapsulates our shared understanding of the problem. uses agreed terminology. create a separate python package for our domain model, no dependencies on other layers.\n",
    "\n",
    "outside domain model put srvices - stateless objects that do stuff to the domain.\n",
    "\n",
    "finally adapter layer. code that drives the service layer. eg concrete implementation for talking to the db. connect our app to the world\n",
    "\n",
    "`DB -> (Adapters ( Services ( Domain ) ) ) <- User`\n",
    "\n",
    "a command handler is an object that orchestrates a business process. similar to a controller in MVC\n",
    "\n",
    "create a **command object** - small object that represents a state-changing action that can happen in the system. no behavior, pure data structures. Commands are instructions from an external agent. they have imperative names. avoid 'create' 'update' 'delete' - these are technical terms. use the business languange."
   ]
  },
  {
   "cell_type": "code",
   "execution_count": 2,
   "metadata": {},
   "outputs": [],
   "source": [
    "class ReportIssueCommand(NamedTuple):\n",
    "    reporter_name: str\n",
    "    reporter_email: str\n",
    "    problem_description: str"
   ]
  },
  {
   "cell_type": "markdown",
   "metadata": {},
   "source": [
    "the command objects are part of the domain. they express the api of your domain. The only way to change state is through a command. they can ve created in many ways: POST, celery, etc.\n",
    "\n",
    "Create a **command handler** for your command. a stateless object that orchestrate system behaviour. kind of like glue code. fetching and saving objects, notifying other areas of the system.\n",
    "\n",
    "Each command has exactly one handler."
   ]
  },
  {
   "cell_type": "code",
   "execution_count": 3,
   "metadata": {},
   "outputs": [],
   "source": [
    "class ReportIsseCommandHandler:\n",
    "    def __init__(self, issue_log):\n",
    "        self.issue_log = issue_log\n",
    "        \n",
    "    def __call__(self, cmd):\n",
    "        reported_by = IssueReporter(\n",
    "            cmd.reporter_name,\n",
    "            cmd.reporter_email\n",
    "        )\n",
    "        issue = Issue(reported_by, cmd.problem_description)\n",
    "        self.issue_log.add(issue)"
   ]
  },
  {
   "cell_type": "markdown",
   "metadata": {},
   "source": [
    "the structure of CHs is consistent:\n",
    "1. fetch the current state from persistent storage\n",
    "2. update current state\n",
    "3. persist the new state\n",
    "4. notify any external systems the state has changed.\n",
    "\n",
    "Boring code, no ifs, loops etc. stick to a single line of execution. no business logic. The following would be a bad CH:"
   ]
  },
  {
   "cell_type": "code",
   "execution_count": 4,
   "metadata": {},
   "outputs": [],
   "source": [
    "class MarkIssueAsResolvedHandler:\n",
    "    def __init__(self, issue_log):\n",
    "        self.issue_log = issue_log\n",
    "        \n",
    "    def __call__(self, cmd):\n",
    "        issue = self.issue_log.get(cmd.issue_id)\n",
    "        # following is business logic\n",
    "        if (issue.state != IssueStatus.Resolved):\n",
    "            issue.mark_as_resolved(cmd.resolution)"
   ]
  },
  {
   "cell_type": "markdown",
   "metadata": {},
   "source": [
    "here the if statement belongs in the domain model, probably in `mark_as_resolved` method of our issue logic\n",
    "\n",
    "1. commands are logic free structures - just a name and bunch of values\n",
    "2. they are a simple stable API. they don't depend on implementation\n",
    "3. commands are handled by exactly 1 handler\n",
    "4. each command instructs run through 1 use case\n",
    "5. a handler: fetches state, updates state, persists new state, notifies about change."
   ]
  },
  {
   "cell_type": "code",
   "execution_count": 5,
   "metadata": {},
   "outputs": [],
   "source": [
    "# domain model\n",
    "\n",
    "class IssueReporter:\n",
    "    def __init__(self, name, email):\n",
    "        self.name = name\n",
    "        self.email = email\n",
    "        \n",
    "\n",
    "class Issue:\n",
    "    def __init__(self,reporter,description):\n",
    "        self.description = description\n",
    "        self.reporter = reporter\n",
    "        \n",
    "\n",
    "class IssueLog:\n",
    "    def add(self, issue):\n",
    "        pass\n",
    "\n",
    "\n",
    "class ReportIssueCommand(NamedTuple):\n",
    "    reporter_name: str\n",
    "    reporter_email: str\n",
    "    problem_description: str\n",
    "        \n",
    "# service layer\n",
    "\n",
    "class ReportIsseCommandHandler:\n",
    "    def __init__(self, issue_log):\n",
    "        self.issue_log = issue_log\n",
    "        \n",
    "    def __call__(self, cmd):\n",
    "        reported_by = IssueReporter(\n",
    "            cmd.reporter_name,\n",
    "            cmd.reporter_email\n",
    "        )\n",
    "        issue = Issue(reported_by, cmd.problem_description)\n",
    "        self.issue_log.add(issue)\n",
    "        \n",
    "# adapter\n",
    "\n",
    "class FakeIssueLog(IssueLog):\n",
    "    def __init__(self):\n",
    "        self.issues = []\n",
    "        \n",
    "    def add(self, issue):\n",
    "        self.issues.append(issue)\n",
    "        \n",
    "    def get(self, id):\n",
    "        return self.issues[id]\n",
    "    \n",
    "    def __len__(self):\n",
    "        return len(self.issues)\n",
    "    \n",
    "    def __getitem__(self, idx):\n",
    "        return self.issues[idx]"
   ]
  },
  {
   "cell_type": "markdown",
   "metadata": {},
   "source": [
    "# repository and unit of work pattern\n",
    "\n",
    "add persistent data access.\n",
    "\n",
    "in our handler we had\n",
    "\n",
    "```\n",
    "reporter = IssueReporter(cmd.reporter_name, cmd.reporter_email)\n",
    "issue = Issue(reporter, cmd.problem_description)\n",
    "issue_log.add(issue)\n",
    "```\n",
    "\n",
    "the issue log comes from the business terminology. So it belongs in the domain. but its also the ideal abstraction for our data store. but we don't want our issue log to depend on our database. That leads us to ports and adapters.\n",
    "\n",
    "in P&A, a domain exposes ports. a port gets data in or out of the domain. IssueLog was a port. Ports are connected to the world by adapters (FakeIssueLog)\n",
    "\n",
    "a circuit which detects current over a threshold. if the threshold exceeds, output a signal. two ports, in and out."
   ]
  },
  {
   "cell_type": "code",
   "execution_count": 6,
   "metadata": {},
   "outputs": [],
   "source": [
    "class ReadablePort:\n",
    "    pass\n",
    "\n",
    "class WriteablePort:\n",
    "    pass\n",
    "\n",
    "class ThresholdDetectionCircuit:\n",
    "    arbitrary_threshold = 4\n",
    "    \n",
    "    def __init__(self, input: ReadablePort, \n",
    "                 output: WriteablePort):\n",
    "        self.input = input\n",
    "        self.output = output\n",
    "        \n",
    "    def read_from_input(self):\n",
    "        next_value = self.input.read()\n",
    "        if next_value > self.arbitrary_threshold:\n",
    "            self.output.write(1)"
   ]
  },
  {
   "cell_type": "markdown",
   "metadata": {},
   "source": [
    "because your ports are standardised you can plug in different devices"
   ]
  },
  {
   "cell_type": "code",
   "execution_count": 7,
   "metadata": {},
   "outputs": [],
   "source": [
    "class LightDetector(ReadablePort):\n",
    "    def read(self):\n",
    "        return self.get_light_amplitude()\n",
    "    \n",
    "class Buzzer(WriteablePort):\n",
    "    def write(self, value):\n",
    "        if value > 0:\n",
    "            self.make-noise()\n",
    "            \n",
    "class Dial(ReadablePort):\n",
    "    def read(self):\n",
    "        return self.current_value\n",
    "    \n",
    "class Light(WriteablePort):\n",
    "    def write(self, value):\n",
    "        if value > 0:\n",
    "            self.on = True\n",
    "        else:\n",
    "            self.on = False"
   ]
  },
  {
   "cell_type": "markdown",
   "metadata": {},
   "source": [
    "Back to our project: IssueLog is like WriteablePort a way to get data in and out. below we plug in sqlalchemy and text. "
   ]
  },
  {
   "cell_type": "code",
   "execution_count": 8,
   "metadata": {},
   "outputs": [],
   "source": [
    "from sqlalchemy.orm import sessionmaker\n",
    "Session = sessionmaker()\n",
    "\n",
    "class SqlAlchemyIssueLog(IssueLog):\n",
    "    def __init__(self, session: Session):\n",
    "        self.session = session\n",
    "        \n",
    "    def add(self, issue):\n",
    "        self.session.add(issue)\n",
    "        \n",
    "class TextFileIssueLog(IssueLog):\n",
    "    def __init__(self, path):\n",
    "        self.path = path\n",
    "    \n",
    "    def add(self, issue):\n",
    "        with open(self.path, 'w') as f:\n",
    "            json.dump(f)"
   ]
  },
  {
   "cell_type": "markdown",
   "metadata": {},
   "source": [
    "In fact IssueLog is a **repository**, an object that hides the detail of persistent storage by giving us an interface that looks like a collection. you can add things to a repository, or get things out. thats it.\n",
    "\n",
    "A simple repo pattern"
   ]
  },
  {
   "cell_type": "code",
   "execution_count": 10,
   "metadata": {},
   "outputs": [],
   "source": [
    "class FooRepository:\n",
    "    def __init__(self, db_session):\n",
    "        self.db_session = db_session\n",
    "        \n",
    "    def add_new_item(self, item):\n",
    "        self.db_session.add(item)\n",
    "        \n",
    "    def get_item(self, id):\n",
    "        return self.db_session.get(Foo, id)\n",
    "    \n",
    "    def find_foos_by_latitude(self, latitude):\n",
    "        return self.session.query(Foo).filter(foo.latitude == latitude)"
   ]
  },
  {
   "cell_type": "code",
   "execution_count": null,
   "metadata": {},
   "outputs": [],
   "source": []
  }
 ],
 "metadata": {
  "kernelspec": {
   "display_name": "Python 3",
   "language": "python",
   "name": "python3"
  },
  "language_info": {
   "codemirror_mode": {
    "name": "ipython",
    "version": 3
   },
   "file_extension": ".py",
   "mimetype": "text/x-python",
   "name": "python",
   "nbconvert_exporter": "python",
   "pygments_lexer": "ipython3",
   "version": "3.7.3"
  }
 },
 "nbformat": 4,
 "nbformat_minor": 2
}
