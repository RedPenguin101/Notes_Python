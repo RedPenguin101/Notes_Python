{
 "cells": [
  {
   "cell_type": "markdown",
   "metadata": {},
   "source": [
    "# Ports and adapters with command handler patterns\n",
    "\n",
    "## Part 1: Command Handler"
   ]
  },
  {
   "cell_type": "code",
   "execution_count": 1,
   "metadata": {},
   "outputs": [],
   "source": [
    "from typing import NamedTuple"
   ]
  },
  {
   "cell_type": "markdown",
   "metadata": {},
   "source": [
    "Architecture style: ports and adapters\n",
    "Design pattern: Command handler\n",
    "\n",
    "keeping business logic in model objects, no bleeding into controllers, no fat manager classes. \n",
    "\n",
    "complexity upfront to avoid accidental complexity down the road\n",
    "\n",
    "building an issue management system\n",
    "\n",
    "> First story: as a user I want to be able to report a new issue\n",
    "\n",
    "### 3 architechture principles\n",
    "\n",
    "1. we will always define where our use case begins and ends. no business processes strewn all over the codebase\n",
    "2. depend on abstractions, not concrete implementations\n",
    "3. glue code is distinct from business logic. put it in the right place\n",
    "\n",
    "define the domain model. encapsulates our shared understanding of the problem. uses agreed terminology. create a separate python package for our domain model, no dependencies on other layers.\n",
    "\n",
    "outside domain model put srvices - stateless objects that do stuff to the domain.\n",
    "\n",
    "finally adapter layer. code that drives the service layer. eg concrete implementation for talking to the db. connect our app to the world\n",
    "\n",
    "`DB -> (Adapters ( Services ( Domain ) ) ) <- User`\n",
    "\n",
    "a command handler is an object that orchestrates a business process. similar to a controller in MVC\n",
    "\n",
    "create a **command object** - small object that represents a state-changing action that can happen in the system. no behavior, pure data structures. Commands are instructions from an external agent. they have imperative names. avoid 'create' 'update' 'delete' - these are technical terms. use the business languange."
   ]
  },
  {
   "cell_type": "code",
   "execution_count": 2,
   "metadata": {},
   "outputs": [],
   "source": [
    "class ReportIssueCommand(NamedTuple):\n",
    "    reporter_name: str\n",
    "    reporter_email: str\n",
    "    problem_description: str"
   ]
  },
  {
   "cell_type": "markdown",
   "metadata": {},
   "source": [
    "the command objects are part of the domain. they express the api of your domain. The only way to change state is through a command. they can ve created in many ways: POST, celery, etc.\n",
    "\n",
    "Create a **command handler** for your command. a stateless object that orchestrate system behaviour. kind of like glue code. fetching and saving objects, notifying other areas of the system.\n",
    "\n",
    "Each command has exactly one handler."
   ]
  },
  {
   "cell_type": "code",
   "execution_count": 3,
   "metadata": {},
   "outputs": [],
   "source": [
    "class ReportIsseCommandHandler:\n",
    "    def __init__(self, issue_log):\n",
    "        self.issue_log = issue_log\n",
    "        \n",
    "    def __call__(self, cmd):\n",
    "        reported_by = IssueReporter(\n",
    "            cmd.reporter_name,\n",
    "            cmd.reporter_email\n",
    "        )\n",
    "        issue = Issue(reported_by, cmd.problem_description)\n",
    "        self.issue_log.add(issue)"
   ]
  },
  {
   "cell_type": "markdown",
   "metadata": {},
   "source": [
    "the structure of CHs is consistent:\n",
    "1. fetch the current state from persistent storage\n",
    "2. update current state\n",
    "3. persist the new state\n",
    "4. notify any external systems the state has changed.\n",
    "\n",
    "Boring code, no ifs, loops etc. stick to a single line of execution. no business logic. The following would be a bad CH:"
   ]
  },
  {
   "cell_type": "code",
   "execution_count": 4,
   "metadata": {},
   "outputs": [],
   "source": [
    "class MarkIssueAsResolvedHandler:\n",
    "    def __init__(self, issue_log):\n",
    "        self.issue_log = issue_log\n",
    "        \n",
    "    def __call__(self, cmd):\n",
    "        issue = self.issue_log.get(cmd.issue_id)\n",
    "        # following is business logic\n",
    "        if (issue.state != IssueStatus.Resolved):\n",
    "            issue.mark_as_resolved(cmd.resolution)"
   ]
  },
  {
   "cell_type": "markdown",
   "metadata": {},
   "source": [
    "here the if statement belongs in the domain model, probably in `mark_as_resolved` method of our issue logic\n",
    "\n",
    "1. commands are logic free structures - just a name and bunch of values\n",
    "2. they are a simple stable API. they don't depend on implementation\n",
    "3. commands are handled by exactly 1 handler\n",
    "4. each command instructs run through 1 use case\n",
    "5. a handler: fetches state, updates state, persists new state, notifies about change."
   ]
  },
  {
   "cell_type": "code",
   "execution_count": 5,
   "metadata": {},
   "outputs": [],
   "source": [
    "# domain model\n",
    "\n",
    "class IssueReporter:\n",
    "    def __init__(self, name, email):\n",
    "        self.name = name\n",
    "        self.email = email\n",
    "        \n",
    "\n",
    "class Issue:\n",
    "    def __init__(self,reporter,description):\n",
    "        self.description = description\n",
    "        self.reporter = reporter\n",
    "        \n",
    "\n",
    "class IssueLog:\n",
    "    def add(self, issue):\n",
    "        pass\n",
    "\n",
    "\n",
    "class ReportIssueCommand(NamedTuple):\n",
    "    reporter_name: str\n",
    "    reporter_email: str\n",
    "    problem_description: str\n",
    "        \n",
    "# service layer\n",
    "\n",
    "class ReportIsseCommandHandler:\n",
    "    def __init__(self, issue_log):\n",
    "        self.issue_log = issue_log\n",
    "        \n",
    "    def __call__(self, cmd):\n",
    "        reported_by = IssueReporter(\n",
    "            cmd.reporter_name,\n",
    "            cmd.reporter_email\n",
    "        )\n",
    "        issue = Issue(reported_by, cmd.problem_description)\n",
    "        self.issue_log.add(issue)\n",
    "        \n",
    "# adapter\n",
    "\n",
    "class FakeIssueLog(IssueLog):\n",
    "    def __init__(self):\n",
    "        self.issues = []\n",
    "        \n",
    "    def add(self, issue):\n",
    "        self.issues.append(issue)\n",
    "        \n",
    "    def get(self, id):\n",
    "        return self.issues[id]\n",
    "    \n",
    "    def __len__(self):\n",
    "        return len(self.issues)\n",
    "    \n",
    "    def __getitem__(self, idx):\n",
    "        return self.issues[idx]"
   ]
  },
  {
   "cell_type": "markdown",
   "metadata": {},
   "source": [
    "## Part 2: repository and unit of work pattern\n",
    "\n",
    "add persistent data access.\n",
    "\n",
    "in our handler we had\n",
    "\n",
    "```\n",
    "reporter = IssueReporter(cmd.reporter_name, cmd.reporter_email)\n",
    "issue = Issue(reporter, cmd.problem_description)\n",
    "issue_log.add(issue)\n",
    "```\n",
    "\n",
    "the issue log comes from the business terminology. So it belongs in the domain. but its also the ideal abstraction for our data store. but we don't want our issue log to depend on our database. That leads us to ports and adapters.\n",
    "\n",
    "in P&A, a domain exposes ports. a port gets data in or out of the domain. IssueLog was a port. Ports are connected to the world by adapters (FakeIssueLog)\n",
    "\n",
    "a circuit which detects current over a threshold. if the threshold exceeds, output a signal. two ports, in and out."
   ]
  },
  {
   "cell_type": "code",
   "execution_count": 6,
   "metadata": {},
   "outputs": [],
   "source": [
    "class ReadablePort:\n",
    "    pass\n",
    "\n",
    "class WriteablePort:\n",
    "    pass\n",
    "\n",
    "class ThresholdDetectionCircuit:\n",
    "    arbitrary_threshold = 4\n",
    "    \n",
    "    def __init__(self, input: ReadablePort, \n",
    "                 output: WriteablePort):\n",
    "        self.input = input\n",
    "        self.output = output\n",
    "        \n",
    "    def read_from_input(self):\n",
    "        next_value = self.input.read()\n",
    "        if next_value > self.arbitrary_threshold:\n",
    "            self.output.write(1)"
   ]
  },
  {
   "cell_type": "markdown",
   "metadata": {},
   "source": [
    "because your ports are standardised you can plug in different devices"
   ]
  },
  {
   "cell_type": "code",
   "execution_count": 7,
   "metadata": {},
   "outputs": [],
   "source": [
    "class LightDetector(ReadablePort):\n",
    "    def read(self):\n",
    "        return self.get_light_amplitude()\n",
    "    \n",
    "class Buzzer(WriteablePort):\n",
    "    def write(self, value):\n",
    "        if value > 0:\n",
    "            self.make-noise()\n",
    "            \n",
    "class Dial(ReadablePort):\n",
    "    def read(self):\n",
    "        return self.current_value\n",
    "    \n",
    "class Light(WriteablePort):\n",
    "    def write(self, value):\n",
    "        if value > 0:\n",
    "            self.on = True\n",
    "        else:\n",
    "            self.on = False"
   ]
  },
  {
   "cell_type": "markdown",
   "metadata": {},
   "source": [
    "Back to our project: IssueLog is like WriteablePort a way to get data in and out. below we plug in sqlalchemy and text. "
   ]
  },
  {
   "cell_type": "code",
   "execution_count": 8,
   "metadata": {},
   "outputs": [],
   "source": [
    "from sqlalchemy.orm import sessionmaker\n",
    "Session = sessionmaker()\n",
    "\n",
    "class SqlAlchemyIssueLog(IssueLog):\n",
    "    def __init__(self, session: Session):\n",
    "        self.session = session\n",
    "        \n",
    "    def add(self, issue):\n",
    "        self.session.add(issue)\n",
    "        \n",
    "class TextFileIssueLog(IssueLog):\n",
    "    def __init__(self, path):\n",
    "        self.path = path\n",
    "    \n",
    "    def add(self, issue):\n",
    "        with open(self.path, 'w') as f:\n",
    "            json.dump(f)"
   ]
  },
  {
   "cell_type": "markdown",
   "metadata": {},
   "source": [
    "In fact IssueLog is a **repository**, an object that hides the detail of persistent storage by giving us an interface that looks like a collection. you can add things to a repository, or get things out. thats it.\n",
    "\n",
    "A simple repo pattern"
   ]
  },
  {
   "cell_type": "code",
   "execution_count": 9,
   "metadata": {},
   "outputs": [],
   "source": [
    "class FooRepository:\n",
    "    def __init__(self, db_session):\n",
    "        self.db_session = db_session\n",
    "        \n",
    "    def add_new_item(self, item):\n",
    "        self.db_session.add(item)\n",
    "        \n",
    "    def get_item(self, id):\n",
    "        return self.db_session.get(Foo, id)\n",
    "    \n",
    "    def find_foos_by_latitude(self, latitude):\n",
    "        return self.session.query(Foo).filter(\n",
    "            foo.latitude == latitude)"
   ]
  },
  {
   "cell_type": "markdown",
   "metadata": {},
   "source": [
    "here we expose methods to add, to get, and to find by some criteria. its using an sqlalchemy session so it's an adapter layer. \n",
    "\n",
    "you could define a different adapter for unit tests"
   ]
  },
  {
   "cell_type": "code",
   "execution_count": 10,
   "metadata": {},
   "outputs": [],
   "source": [
    "class FooRespository:\n",
    "    def __init__(self, db_session):\n",
    "        self.items = []\n",
    "    \n",
    "    def add_new_items(self, item):\n",
    "        self.items.append(item)\n",
    "        \n",
    "# etc."
   ]
  },
  {
   "cell_type": "markdown",
   "metadata": {},
   "source": [
    "this works the same as the sql alchemy, but you don't need to spin up and tear down a test DB.\n",
    "\n",
    "The repo is the read/write to our data store. it's commonly used with a **unit of work** pattern. a UOW represents a bunch of things that happend together. all the stuff in a UOW gets cached in memory and only R/W to datastore when UOW is complete, when everything is flushed"
   ]
  },
  {
   "cell_type": "code",
   "execution_count": 13,
   "metadata": {},
   "outputs": [],
   "source": [
    "# stubs\n",
    "class UnitOfWorkManager:\n",
    "    pass\n",
    "\n",
    "class UnitOfWork:\n",
    "    pass\n",
    "\n",
    "#\n",
    "\n",
    "class SqlAlchemyUnitOfWorkManager(UnitOfWorkManager):\n",
    "    \"\"\"The unit of work manager returns a new unit of work\n",
    "    Our UOW is backed by a sql alchemy session whose lifetime \n",
    "    can be scoped to a web request, or a long lived background\n",
    "    job\"\"\"\n",
    "    \n",
    "    def __init__(self, session_maker):\n",
    "        self.session_maker = session_maker\n",
    "        \n",
    "    def start(self):\n",
    "        return SqlAlchemyUnitOfWork(self.session_maker)\n",
    "    \n",
    "\n",
    "class SqlAlchemyUnitOfWork(UnitOfWork):\n",
    "    \"\"\"the unit of work captures the idea of a set of things\n",
    "    that need to happen together\n",
    "    \n",
    "    usually, in a relational db, one UOW = one DB transaction\"\"\"\n",
    "    \n",
    "    def __init__(self, sessionfactory):\n",
    "        self.sessionfactory = sessionfactory\n",
    "        \n",
    "    def __enter__(self):\n",
    "        self.session = self.sessionfactory()\n",
    "        return seld\n",
    "    \n",
    "    def __exit__(self, type, value, traceback):\n",
    "        self.session.close()\n",
    "        \n",
    "    def commit(self):\n",
    "        self.session.commit()\n",
    "        \n",
    "    def rollback(self):\n",
    "        self.session.rollback()\n",
    "    \n",
    "    # put repositories on UOW for convenient access\n",
    "    @property\n",
    "    def issues(self):\n",
    "        return IssueRepository(self.session)"
   ]
  },
  {
   "cell_type": "markdown",
   "metadata": {},
   "source": [
    "This is missing logging and error handling in the commit method but otherwise production ready.\n",
    "\n",
    "Our UOW manager creates a UOW\n",
    "\n",
    "Our CH will need to be adjusted to work with this, it should now start a unit of work, and commiting the uow when it's finshed. This is principle 1: clear beginning and end of business process.\n",
    "\n",
    "Our CH works on abstractions - it doesn't care whether it's working with a test double or a sqlalchemy session. (P2)\n",
    "\n",
    "And this is just glue code."
   ]
  },
  {
   "cell_type": "code",
   "execution_count": 15,
   "metadata": {},
   "outputs": [],
   "source": [
    "class ReportIssueHandler:\n",
    "    def __init__(self, uowm:UnitOfWorkManager):\n",
    "        self.uowm = uowm\n",
    "        \n",
    "    def handle(self, cmd):\n",
    "        with uowm.start() as unit_of_work:\n",
    "            reporter = IssueReporter(cms.reporter_name, \n",
    "                                     cmd.reporter_email)\n",
    "            issue = Issue(reporter, cmd.problem_description)\n",
    "            unit_of_work.issues.add(issue)\n",
    "            unit_of_work.commit()"
   ]
  },
  {
   "cell_type": "markdown",
   "metadata": {},
   "source": [
    "In the code sample for C1 there was\n",
    "```\n",
    "issue_logger_app_services\n",
    "    |- __init__.py\n",
    "    |- handlers.py (ReportIssueHandler)\n",
    "issue_logger_model\n",
    "    |- __init__.py\n",
    "    |- commands.py (ReportIssueCommand)\n",
    "    |- domain.py (IssueReporter, Issue, IssueLog)\n",
    "issue_logger_unit_tests\n",
    "requirements.txt\n",
    "setup.py\n",
    "```\n",
    "\n",
    "Now it's\n",
    "```\n",
    "issues\n",
    "    |- services\n",
    "        |- __init__.py\n",
    "    |- domain\n",
    "        |- __init__.py\n",
    "        |- commands.py (ReportIssueCommand)\n",
    "        |- model.py (IssueReporter, Issue)\n",
    "        |- ports.py (IssueLog, UnitOfWork, UnitOfWorkManager)\n",
    "    |- adapters\n",
    "        |- __init__.py\n",
    "        |- orm.py (SqlAlchemyUnitOfWorkManager(UnitOfWorkMgr),\n",
    "                   IssueRepository, \n",
    "                   SqlAlchemyUnitOfWork(UnitOfWork),\n",
    "                   SqlAlchemy, SqlAlchemySessionContext, \n",
    "                   IssueViewBuilder) \n",
    "     |- slow-tests\n",
    "         |- __init__.py\n",
    "         |- issue_repository_tests.py (bunch of tests)\n",
    "     |- quick_tests\n",
    "         |- adapters.py (FakeIssueLog(IssueLog),\n",
    "                        FakeUnitOfWork(UnitOfWork, \n",
    "                                    UnitOfWorkManager)\n",
    "         |- test_issue_reporting.py (bunch of tests)\n",
    "     |- __init__.py\n",
    "requirements.txt\n",
    "setup.py\n",
    "```\n",
    "\n",
    "Note the ORM code is in one module and it depends on the domain model, not the other way round.\n",
    "\n",
    "Our unit tests would continue to work if we deleted SQLAlchemy"
   ]
  },
  {
   "cell_type": "markdown",
   "metadata": {},
   "source": [
    "## Part 3: Command-Query separation Principle\n",
    "\n",
    "every method should either be a command that performs an action, or a query that returns data to the caller, but not both. *Asking a question should not change the answer*\n",
    "\n",
    "### Referential Transparency\n",
    "a function is referentially transparent if you could replace it with a static value"
   ]
  },
  {
   "cell_type": "code",
   "execution_count": 16,
   "metadata": {},
   "outputs": [],
   "source": [
    "class LightSwitch:\n",
    "    def toggle_light(self):\n",
    "        self.light_is_on = not self.light_is_on\n",
    "        return self.light_is_on\n",
    "    \n",
    "    @property\n",
    "    def is_on(self):\n",
    "        return self.light_is_on"
   ]
  },
  {
   "cell_type": "markdown",
   "metadata": {},
   "source": [
    "`is_on` is RT. it can be replaced by true or false without loss of functionality. `toggle_light` is side-effectual. to be CQS compliant We shouldn't return a value from the method.\n",
    "\n",
    "if commands and queries are completely separate it makes your code much more readable."
   ]
  },
  {
   "cell_type": "markdown",
   "metadata": {},
   "source": [
    "### getting data out of a command-handler architecture\n",
    "\n",
    "Commands and handlers perform state changes. what is the equivalent port for queries?\n",
    "\n",
    "Low cost: just re-use your respositories"
   ]
  },
  {
   "cell_type": "code",
   "execution_count": 19,
   "metadata": {},
   "outputs": [],
   "source": [
    "# @app.route(\"/issues\") <- would be your flask\n",
    "def list_issues():\n",
    "    with unit_of_work_manager.start() as unit_of_work:\n",
    "        open_issues = unit_of_work.issue.find_by_status('open')\n",
    "        return json.dumps(open_issues)"
   ]
  },
  {
   "cell_type": "markdown",
   "metadata": {},
   "source": [
    "but it's a slippery slope: soon you'll start including business logic\n",
    "\n",
    "To stay pure, define your views explicitly"
   ]
  },
  {
   "cell_type": "code",
   "execution_count": 21,
   "metadata": {},
   "outputs": [],
   "source": [
    "class OpenIssuesList:\n",
    "    def __init__(self, sessionmaker):\n",
    "        self.sessionmaker = sessionmaker\n",
    "        \n",
    "    def fetch(self):\n",
    "        with self.sessionmaker() as session:\n",
    "            result = session.execute(\n",
    "                'SELECT reporter_name, timestamp, title'\n",
    "                'FROM issues WHERE state = \"open\"'\n",
    "            )\n",
    "            return [dict(r) for r in result.fetchall()]\n",
    "        \n",
    "#@api.route('/issues/')\n",
    "def list_issues():\n",
    "    view_builder = OpenIssuesList(session_maker)\n",
    "    return jsonify(view_builder.fetch())"
   ]
  },
  {
   "cell_type": "markdown",
   "metadata": {},
   "source": [
    "Note the raw SQL - this is OK because your read model is super easy and lightweight, and completely separate from your much heavier write model. Abandoning the ORM is OK here\n",
    "\n",
    "### Why a separate read-model?\n",
    "\n",
    "mistake 1: making too make calls to the DB because you don't realise what you have in memory - makes for bad performance"
   ]
  },
  {
   "cell_type": "code",
   "execution_count": null,
   "metadata": {},
   "outputs": [],
   "source": [
    "# find all users who are assigned this task\n",
    "# [[and]] notify them and their line manager\n",
    "# then move the task to their in-queue\n",
    "notification = task.as_notification()\n",
    "for assignee in task.assignees:\n",
    "    assignee.manager.notifications.add(notifications)\n",
    "    assignee.notifications.add(notifications)\n",
    "    assignee.queues.inbox.add(task)"
   ]
  },
  {
   "cell_type": "markdown",
   "metadata": {},
   "source": [
    "### CQRS is CQS at a system level\n",
    "\n",
    "Command-Query Responsibility Segregation.\n",
    "\n",
    "just means that you separate the write model (the domain model) and the read model (lightweight simple model for showing things on the UI, or answering questions about the domain state)\n",
    "\n",
    "![title](6.1.read_write.png)\n",
    "\n",
    "This is why using raw SQL is fine for read. use whatever is fast and convenient.\n",
    "\n",
    "### Application Controlled Identifiers\n",
    "\n",
    "OK, so your commands can't return values, how do you get an ID back from my save method? say if I've just written an issue and want to point the user to that issue on the UI?\n",
    "\n",
    "Answer: choose the IDs yourself instead of letting the db choose them. You can use uuid for this. but there's also hilo for sqlalchemy (google it)\n",
    "\n",
    "Check in on the app model\n",
    "\n",
    "![model](6.2.model.png)"
   ]
  },
  {
   "cell_type": "markdown",
   "metadata": {},
   "source": [
    "## Part 4: why use domain events?\n",
    "we have a skeleton for an app, and we can add new issues into the DB, and fetch them from a Flask API.\n",
    "\n",
    "So far we don't have any domain logic. Let's look at more use-cases\n",
    "\n",
    "> As an IT manager I want to assign priority to new items\n",
    "> As an IT manager I want to assign categories to new items (both part of the 'triage'\n",
    "> As an IT manager I want to assign an engineer to an issue\n",
    "> as an engineer I want to pick up an unassigned issue\n",
    "> As an IT user I want a queue of issues determined by priority and category so I know what to work on.\n",
    "\n",
    "look at the Triaging. issues need to have a `state`, with a new issue having the state `AwaitingTriage`. So we add a Triage handler and command"
   ]
  },
  {
   "cell_type": "code",
   "execution_count": 22,
   "metadata": {},
   "outputs": [],
   "source": [
    "class TriageIssueHandler:\n",
    "    def __init__(seld, uowm: UnitOfWorkManager):\n",
    "        self.uowm = uowm\n",
    "        \n",
    "    def handle(self, cmd):\n",
    "        with self.uowm.start() as uow:\n",
    "            issue = uow.issues.get(cmd.issue_id)\n",
    "            issue.triage(cmd.priority, cmd.category)\n",
    "            # issue method should also put the issue into\n",
    "            # AwaitingAssignment state\n",
    "            uow.commit()\n",
    "            \n",
    "class PickIssueHandler:\n",
    "    def __init__(self, uowm: UnitOfWorkManager):\n",
    "        self.uowm = uowm\n",
    "        \n",
    "    def handle(self, cmd):\n",
    "        with self.uowm.start() as uow:\n",
    "            issue = uow.issues.get(cmd.issue_id)\n",
    "            issue.assign_to(cmd.picked_by)\n",
    "            uow.commit()"
   ]
  },
  {
   "cell_type": "markdown",
   "metadata": {},
   "source": [
    "So far each handler has had the steps\n",
    "1. fetch current state\n",
    "2. mutae the state by calling a method on our domain model\n",
    "3. persist the new state\n",
    "\n",
    "but we haven't done step 4 yet\n",
    "4. notify other parts of the system the state has changed\n",
    "\n",
    "> as an engineer I want to get an email when an issue is assigned to me\n",
    "\n",
    "### Single Responsibility Principle\n"
   ]
  },
  {
   "cell_type": "code",
   "execution_count": 25,
   "metadata": {},
   "outputs": [],
   "source": [
    "# dummy class\n",
    "class EmailBuilder:\n",
    "    pass\n",
    "class EmailSender:\n",
    "    pass\n",
    "\n",
    "# code\n",
    "class AssignIssueHandler:\n",
    "    def __init__(self, uowm: UnitOfWorkManager,\n",
    "                email_builder: EmailBuilder,\n",
    "                email_sender: EmailSender):\n",
    "        self.uowm = uowm\n",
    "        self.email_builder = email_builder\n",
    "        self.email_sender = email_sender\n",
    "        \n",
    "    def handle(self,cmd):\n",
    "        # assign issue\n",
    "        with self.uowm.start() as uow:\n",
    "            issue = uow.issues.get(cmd.issue_id)\n",
    "            issue.assign_to(\n",
    "                cmd.assigned_to,\n",
    "                assigned_by = cmd.assigned_by\n",
    "            )\n",
    "            uow.commit()\n",
    "            \n",
    "        \n",
    "        # send email\n",
    "        email = self.email_builder.build(\n",
    "            cmd.assigned_to,\n",
    "            cmd.assigned_by,\n",
    "            issue.problem_description\n",
    "        )\n",
    "        self.email_sender.send(email)"
   ]
  },
  {
   "cell_type": "markdown",
   "metadata": {},
   "source": [
    "So this is responsible for 2 things: assigning the task and sending the email. this violates SRP\n",
    "\n",
    "> describe the behavior of you class. if you use the word 'and' or 'then' you might be breaking SRP \n",
    "\n",
    "In practical terms, how would you error handle this? what if you can't assign to a particular engineer? should you assign to another engineer? What if the assign part suceeds but the email fails? what action should be taken in response? what state will the system be in?\n",
    "\n",
    "Assgining the issue is the thing we care about here - it should either suceed or fail completely. sending the email is secondary and the sysadmins can deal with it later\n",
    "\n",
    "So lets fix it"
   ]
  },
  {
   "cell_type": "code",
   "execution_count": 26,
   "metadata": {},
   "outputs": [],
   "source": [
    "class AssignIssueHandler:\n",
    "    def __init__(self, uowm: UnitOfWorkManager):\n",
    "        self.uowm = uowm\n",
    "        \n",
    "    def handle(self, cmd):\n",
    "        with self.uowm.start() as uow:\n",
    "            issue - uow.issues.get(cmd.issue_id)\n",
    "            issue.assign_to(cmd.assignee_address,\n",
    "                           assigned_by=cmd.assigner_address)\n",
    "            uow.commit()\n",
    "            \n",
    "\n",
    "class SendAssignmentEmailHandler:\n",
    "    def __init__(self, uowm: UnitOfWorkManager,\n",
    "                email_builder: EmailBuilder,\n",
    "                email_sender: EmailSender):\n",
    "        self.uowm = uowm\n",
    "        self.email_builder = email_builder\n",
    "        self.email_sender = email_sender\n",
    "        \n",
    "    def handle(self,cmd):\n",
    "        with self.uowm.start() as uow:\n",
    "            issue = uow.issues.get(cmd.issue_id)\n",
    "            \n",
    "            email = self.email_builder.build(\n",
    "                cmd.assignee_address,\n",
    "                cmd.assigner_address,\n",
    "                issue.problem_description\n",
    "            )\n",
    "            self.email_sender.send(email)"
   ]
  },
  {
   "cell_type": "markdown",
   "metadata": {},
   "source": [
    "The email handler doesn't actually need a uow here, because the state isn't changing. So use a view builder instead"
   ]
  },
  {
   "cell_type": "code",
   "execution_count": 28,
   "metadata": {},
   "outputs": [],
   "source": [
    "# dummy class\n",
    "class IssueViewBuilder:\n",
    "    pass\n",
    "\n",
    "# code\n",
    "class SendAssignmentEmailHandler:\n",
    "    def __init__(self, \n",
    "                view: IssueViewBuilder,\n",
    "                email_builder: EmailBuilder,\n",
    "                email_sender: EmailSender):\n",
    "        self.view = view\n",
    "        self.email_builder = email_builder\n",
    "        self.email_sender = email_sender\n",
    "        \n",
    "    def handle(self,cmd):\n",
    "        issue = self.view.fetch(cmd.issue_id)\n",
    "            \n",
    "        email = self.email_builder.build(\n",
    "            cmd.assignee_address,\n",
    "            cmd.assigner_address,\n",
    "            issue['problem description']\n",
    "        )\n",
    "        self.email_sender.send(email)"
   ]
  },
  {
   "cell_type": "markdown",
   "metadata": {},
   "source": [
    "But how do you invoke the handler? Calling the email handler from the assigner handler violates principle 1\n",
    "\n",
    "> 1. we will always define where our use case begins and ends. no business processes strewn all over the codebase\n",
    "\n",
    "we need a way to signal between handlers. we need **Domain Events**\n",
    "\n",
    "### message bus\n",
    "Events are like commands, they're both types of message - chunks of data between entities. they differ in intent:\n",
    "\n",
    "1. commands are named in the imperative (DoThisThing), events in past (ThingWasDone)\n",
    "2. Commands have exactly one Handler. Events have 0 to many handlers\n",
    "3. an error in a command results in the entire request failing. an event error fails gracefully\n",
    "\n",
    "Use a domain event to *trigger workflows that fall outside our immediate use case boundary* - here the UCB is 'assign the issue' and the secondary requirement is 'send the email'. Notifcations are commoon reasons to trigger events, others are clear the cache, regenerate a view model.\n",
    "\n",
    "we need to raise a DE when we assign an issue. we don't want to know about the subscibers to the event, or we are coupled. we need a mediator, a **message bus**\n",
    "\n",
    "![bus](6.3.bus.png)"
   ]
  },
  {
   "cell_type": "code",
   "execution_count": 30,
   "metadata": {},
   "outputs": [],
   "source": [
    "from collections import defaultdict\n",
    "\n",
    "class MessageBus:\n",
    "    def __init__(self):\n",
    "        \"\"\"our message bus is just a mapping\n",
    "        from message type to a list of handlers\"\"\"\n",
    "        self.subscribers = defaultdict(list)\n",
    "    \n",
    "    def handle(self, msg):\n",
    "        \"\"\"the handle method invokes each handler in\n",
    "        turn with our event\"\"\"\n",
    "        msg_name = type(msg).__name__\n",
    "        subscribers = self.subscribers[msg_name]\n",
    "        for subscriber in subscribers:\n",
    "            subscriber.handle(cmd)\n",
    "            \n",
    "    def subscribe_to(self, msg, handler):\n",
    "        \"\"\"subscribe sets up a new mapping, we make\n",
    "        sure not to allow > 1 handler per command\"\"\"\n",
    "        subscribers = [msg.__name__]\n",
    "        if msg.is_cmd and len(subscribers) > 0:\n",
    "            raise CommandAlreadySubscribedException(msg.__name__)\n",
    "        subscribers.append(handler)"
   ]
  },
  {
   "cell_type": "markdown",
   "metadata": {},
   "source": [
    "usage example\n",
    "```\n",
    "bus = MessageBus()\n",
    "bus.subscribe_to(ReportIssueCommand, \n",
    "                 ReportIssueHandler(db.unit_of_work_manager))\n",
    "bus.handle(cmd)\n",
    "```\n",
    "\n",
    "To put this in our API handlers would look like:\n",
    "\n",
    "```\n",
    "@api.route('/issues', methods=['POST'])\n",
    "def create_issue(self):\n",
    "    issue_id = uuid.uuid4()\n",
    "    cmd = ReportIssueCommand(issue_id = issue_id,\n",
    "            **request.get_json())\n",
    "    bus.handle(cmd)\n",
    "    return \"\", 201, {\"Location\": \"/issues/\" + str(issue_id)}\n",
    "```\n",
    "\n",
    "So instead of directly constucting a handler and telling it to handle the command, we're passing it to the bus.\n",
    "\n",
    "Raising an event? do it from command handlers"
   ]
  },
  {
   "cell_type": "code",
   "execution_count": 35,
   "metadata": {},
   "outputs": [
    {
     "ename": "SyntaxError",
     "evalue": "invalid syntax (<ipython-input-35-a8f9355d98b0>, line 8)",
     "output_type": "error",
     "traceback": [
      "\u001b[0;36m  File \u001b[0;32m\"<ipython-input-35-a8f9355d98b0>\"\u001b[0;36m, line \u001b[0;32m8\u001b[0m\n\u001b[0;31m    self.bus.raise(IssueAssignedToEngineer(\u001b[0m\n\u001b[0m                 ^\u001b[0m\n\u001b[0;31mSyntaxError\u001b[0m\u001b[0;31m:\u001b[0m invalid syntax\n"
     ]
    }
   ],
   "source": [
    "class AssignIssueHandler:\n",
    "    def handle(self, cmd):\n",
    "        with self.uowm.start() as uow:\n",
    "            issue = uow.issues.get(cmd.id)\n",
    "            issue.assign_to(cmd.assigned_to, cmd.assigned_by)\n",
    "            uow.commit()\n",
    "        \n",
    "        self.bus.raise(IssueAssignedToEngineer(\n",
    "            cmd.issue_id,\n",
    "            cmd.assigned_to,\n",
    "            cmd.assigned_by\n",
    "        ))"
   ]
  },
  {
   "cell_type": "markdown",
   "metadata": {},
   "source": [
    "Or do it from your model objects, treat them as part of domain model proper"
   ]
  },
  {
   "cell_type": "code",
   "execution_count": 36,
   "metadata": {},
   "outputs": [],
   "source": [
    "class Issue:\n",
    "    def assign_to(self, assigned_to, assigned_by):\n",
    "        self.assigned_to = assigned_to\n",
    "        self.assigned_by = assigned_by\n",
    "        \n",
    "        self.events.add(IssueAssignedToEngineer(\n",
    "            self.id, self.assigned_to, self.assigned_by\n",
    "        ))"
   ]
  },
  {
   "cell_type": "markdown",
   "metadata": {},
   "source": [
    "This means you can have business logic for deciding when to raise an event."
   ]
  }
 ],
 "metadata": {
  "kernelspec": {
   "display_name": "Python 3",
   "language": "python",
   "name": "python3"
  },
  "language_info": {
   "codemirror_mode": {
    "name": "ipython",
    "version": 3
   },
   "file_extension": ".py",
   "mimetype": "text/x-python",
   "name": "python",
   "nbconvert_exporter": "python",
   "pygments_lexer": "ipython3",
   "version": "3.7.3"
  }
 },
 "nbformat": 4,
 "nbformat_minor": 2
}
