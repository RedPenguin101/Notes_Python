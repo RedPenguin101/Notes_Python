{
 "cells": [
  {
   "cell_type": "markdown",
   "metadata": {},
   "source": [
    "# Transforming Code into Beautiful, Idiomatic Python\n",
    "https://www.youtube.com/watch?v=OSGv2VnC0go\n",
    "\n",
    "A talk by Raymond Hettinger in 2013, one of the senior developers at Python, on some common patterns that are usually coded badly, and how to improve them.\n",
    "\n",
    "## For loops\n",
    "For loops in Python are not the same as in other languages - a better description would be 'for each', since they loop over collections using iterator\n",
    "\n",
    "### Looping over a range of numbers"
   ]
  },
  {
   "cell_type": "code",
   "execution_count": 1,
   "metadata": {},
   "outputs": [
    {
     "name": "stdout",
     "output_type": "stream",
     "text": [
      "0\n",
      "1\n",
      "4\n",
      "9\n",
      "16\n",
      "25\n"
     ]
    }
   ],
   "source": [
    "# ugly way\n",
    "for i in [0,1,2,3,4,5]:\n",
    "    print(i**2)"
   ]
  },
  {
   "cell_type": "code",
   "execution_count": 2,
   "metadata": {},
   "outputs": [
    {
     "name": "stdout",
     "output_type": "stream",
     "text": [
      "0\n",
      "1\n",
      "4\n",
      "9\n",
      "16\n",
      "25\n"
     ]
    }
   ],
   "source": [
    "# less ugly way\n",
    "for i in range(6):\n",
    "    print(i**2)"
   ]
  },
  {
   "cell_type": "markdown",
   "metadata": {},
   "source": [
    "Range _used to_ replicate the 1st block: it creates a list of 6 elements and iterates over it. So if you have 1m+ elements the list is going big (~32MB)\n",
    "\n",
    "Now `range` has been replaced with what used to be `xrange`: an iteratorised version of range, which passes the values one at a time, so no memory (or nearly none) is used\n",
    "\n",
    "### Looping over a collection"
   ]
  },
  {
   "cell_type": "code",
   "execution_count": 3,
   "metadata": {},
   "outputs": [
    {
     "name": "stdout",
     "output_type": "stream",
     "text": [
      "red\n",
      "green\n",
      "blue\n",
      "yellow\n"
     ]
    }
   ],
   "source": [
    "colors = ['red','green','blue','yellow']\n",
    "\n",
    "# ugly way, from C\n",
    "for i in range(len(colors)):\n",
    "    print(colors[i])"
   ]
  },
  {
   "cell_type": "code",
   "execution_count": 4,
   "metadata": {},
   "outputs": [
    {
     "name": "stdout",
     "output_type": "stream",
     "text": [
      "red\n",
      "green\n",
      "blue\n",
      "yellow\n"
     ]
    }
   ],
   "source": [
    "# Better way\n",
    "for color in colors:\n",
    "    print(color)"
   ]
  },
  {
   "cell_type": "markdown",
   "metadata": {},
   "source": [
    "### Looping backwards"
   ]
  },
  {
   "cell_type": "code",
   "execution_count": 5,
   "metadata": {},
   "outputs": [
    {
     "name": "stdout",
     "output_type": "stream",
     "text": [
      "yellow\n",
      "blue\n",
      "green\n",
      "red\n"
     ]
    }
   ],
   "source": [
    "# the VERY ugly way\n",
    "for i in range(len(colors)-1,-1,-1):\n",
    "    print(colors[i])"
   ]
  },
  {
   "cell_type": "code",
   "execution_count": 6,
   "metadata": {},
   "outputs": [
    {
     "name": "stdout",
     "output_type": "stream",
     "text": [
      "yellow\n",
      "blue\n",
      "green\n",
      "red\n"
     ]
    }
   ],
   "source": [
    "# the python way\n",
    "for color in reversed(colors):\n",
    "    print(color)"
   ]
  },
  {
   "cell_type": "markdown",
   "metadata": {},
   "source": [
    "### Looping over a collection and indices"
   ]
  },
  {
   "cell_type": "code",
   "execution_count": 7,
   "metadata": {},
   "outputs": [
    {
     "name": "stdout",
     "output_type": "stream",
     "text": [
      "0 --> red\n",
      "1 --> green\n",
      "2 --> blue\n",
      "3 --> yellow\n"
     ]
    }
   ],
   "source": [
    "# ugly way\n",
    "for i in range(len(colors)):\n",
    "    print(i,'-->',colors[i])"
   ]
  },
  {
   "cell_type": "code",
   "execution_count": 8,
   "metadata": {},
   "outputs": [
    {
     "name": "stdout",
     "output_type": "stream",
     "text": [
      "0 --> red\n",
      "1 --> green\n",
      "2 --> blue\n",
      "3 --> yellow\n"
     ]
    }
   ],
   "source": [
    "# Python way\n",
    "for index, color in enumerate(colors):\n",
    "    print(index,'-->',color)"
   ]
  },
  {
   "cell_type": "markdown",
   "metadata": {},
   "source": [
    "### Looping over two collections"
   ]
  },
  {
   "cell_type": "code",
   "execution_count": 9,
   "metadata": {},
   "outputs": [
    {
     "name": "stdout",
     "output_type": "stream",
     "text": [
      "Raymond --> red\n",
      "Rachel --> green\n",
      "Matthew --> blue\n"
     ]
    }
   ],
   "source": [
    "names = ['Raymond','Rachel','Matthew']\n",
    "\n",
    "# ugly way\n",
    "n=min(len(names),len(colors))\n",
    "for i in range(n):\n",
    "    print(names[i],'-->',colors[i])"
   ]
  },
  {
   "cell_type": "code",
   "execution_count": 10,
   "metadata": {},
   "outputs": [
    {
     "name": "stdout",
     "output_type": "stream",
     "text": [
      "Raymond red\n",
      "Rachel green\n",
      "Matthew blue\n"
     ]
    }
   ],
   "source": [
    "# Python way\n",
    "for name, color in zip(names, colors):\n",
    "    print(name, color)"
   ]
  },
  {
   "cell_type": "markdown",
   "metadata": {},
   "source": [
    "similar to xrange, there used to be an izip. Believe this replaced zip. "
   ]
  },
  {
   "cell_type": "markdown",
   "metadata": {},
   "source": [
    "### Loop in sorted order\n",
    "For stuff with simple comparisons, like sorting alphabetically"
   ]
  },
  {
   "cell_type": "code",
   "execution_count": 11,
   "metadata": {},
   "outputs": [
    {
     "name": "stdout",
     "output_type": "stream",
     "text": [
      "blue\n",
      "green\n",
      "red\n",
      "yellow\n"
     ]
    }
   ],
   "source": [
    "for color in sorted(colors):\n",
    "    print(color)"
   ]
  },
  {
   "cell_type": "code",
   "execution_count": 12,
   "metadata": {},
   "outputs": [
    {
     "name": "stdout",
     "output_type": "stream",
     "text": [
      "yellow\n",
      "red\n",
      "green\n",
      "blue\n"
     ]
    }
   ],
   "source": [
    "# reversal\n",
    "for color in sorted(colors, reverse=True):\n",
    "    print(color)"
   ]
  },
  {
   "cell_type": "markdown",
   "metadata": {},
   "source": [
    "But if you want custom sorting"
   ]
  },
  {
   "cell_type": "code",
   "execution_count": 13,
   "metadata": {},
   "outputs": [],
   "source": [
    "# Used to be like this using custom comparators - \n",
    "# doesn't work any more\n",
    "def compare_length(c1,c2):\n",
    "    if len(c1) < len(c2): return -1\n",
    "    if len(c1) > len(c2): return 1\n",
    "    return 0\n",
    "\n",
    "# print(sorted(colors, cmp=compare_length))"
   ]
  },
  {
   "cell_type": "code",
   "execution_count": 14,
   "metadata": {},
   "outputs": [
    {
     "name": "stdout",
     "output_type": "stream",
     "text": [
      "['red', 'blue', 'green', 'yellow']\n"
     ]
    }
   ],
   "source": [
    "# Custom comparators SUCK. Key functions are better.\n",
    "print(sorted(colors,key=len))"
   ]
  },
  {
   "cell_type": "markdown",
   "metadata": {},
   "source": [
    "## Sentinals and guardians\n",
    "\n",
    "Traditionally if you want a loop until you reach a 'sentinal' value to terminate the sequence you would have a `while True` loop with a `break` somewhere in it"
   ]
  },
  {
   "cell_type": "code",
   "execution_count": 15,
   "metadata": {},
   "outputs": [],
   "source": [
    "# blocks=[]\n",
    "# while True:\n",
    "#     block = f.read(32)\n",
    "#     if block == '':\n",
    "#         break\n",
    "#     blocks.append(block)\n",
    "    \n",
    "# f isn't defined so this won't actually run"
   ]
  },
  {
   "cell_type": "markdown",
   "metadata": {},
   "source": [
    "This is sucky for serveral reasons. "
   ]
  },
  {
   "cell_type": "code",
   "execution_count": 16,
   "metadata": {},
   "outputs": [],
   "source": [
    "# from functools import partial\n",
    "\n",
    "# blocks = []\n",
    "# for block in iter(partial(f.read, 32),''):\n",
    "#     blocks.append(block)"
   ]
  },
  {
   "cell_type": "markdown",
   "metadata": {},
   "source": [
    "The important bit is the 2 args being passed to `iter()`. The first argument is the function you call over and over again, the second is the sentinal value, the 'break' signal.\n",
    "\n",
    "the strength here is that you've made it iterable, which are a powerful tool in Python. Lots of stuff you can do with this,\n",
    "\n",
    "The `partial` function is pretty useful too, but not covered here - it reduces the amount of arguments you need to pass to a function.\n",
    "\n",
    "Also note, sentinals are  actually problematic, not always good to use them. "
   ]
  },
  {
   "cell_type": "markdown",
   "metadata": {},
   "source": [
    "## Multiple exit points in loops, flag variables\n",
    "\n",
    "For loops all have an if function built in, to test if they're at the end of the sequence yet. We since we have an if, we also have an else"
   ]
  },
  {
   "cell_type": "code",
   "execution_count": 17,
   "metadata": {},
   "outputs": [
    {
     "data": {
      "text/plain": [
       "3"
      ]
     },
     "execution_count": 17,
     "metadata": {},
     "output_type": "execute_result"
    }
   ],
   "source": [
    "def find(seq, target):\n",
    "    found = False # the flag variable\n",
    "    for i, value in enumerate(seq):\n",
    "        if value == target:\n",
    "            found = True\n",
    "            break\n",
    "    if not found:\n",
    "        return -1\n",
    "    return i\n",
    "\n",
    "find(colors, 'yellow')"
   ]
  },
  {
   "cell_type": "code",
   "execution_count": 18,
   "metadata": {},
   "outputs": [
    {
     "data": {
      "text/plain": [
       "3"
      ]
     },
     "execution_count": 18,
     "metadata": {},
     "output_type": "execute_result"
    }
   ],
   "source": [
    "# Pythonic way\n",
    "\n",
    "def find(seq, target):\n",
    "    for i, v in enumerate(seq):\n",
    "        if v == target:\n",
    "            break\n",
    "    else: return -1\n",
    "    return i\n",
    "\n",
    "find(colors, 'yellow')"
   ]
  },
  {
   "cell_type": "markdown",
   "metadata": {},
   "source": [
    "This can be hard to remember - `else` is not descriptive (any more). Think of it instead of `nobreak`. A for has two outcomes: you finish the loop break out of it."
   ]
  },
  {
   "cell_type": "markdown",
   "metadata": {},
   "source": [
    "## Dictionaries\n",
    "Dicts are the fundamental tool for expressing relationships, linking counting and grouping. You need to be super good at them\n",
    "\n",
    "### Looping over dictionary keys"
   ]
  },
  {
   "cell_type": "code",
   "execution_count": 19,
   "metadata": {},
   "outputs": [
    {
     "name": "stdout",
     "output_type": "stream",
     "text": [
      "Raymond\n",
      "Rachel\n",
      "Matthew\n"
     ]
    }
   ],
   "source": [
    "d = {'Raymond': 'red', 'Rachel': 'green', 'Matthew': 'blue'}\n",
    "\n",
    "for k in d:\n",
    "    print(k)"
   ]
  },
  {
   "cell_type": "code",
   "execution_count": 20,
   "metadata": {},
   "outputs": [],
   "source": [
    "# another way he shows which doesn't actually work - \n",
    "# his point was that you should use this when you want to mutate\n",
    "# a dictionary, but this is specifically preventing that!\n",
    "# Wonder what changed?\n",
    "\n",
    "# for k in d.keys():\n",
    "#     if k.startswith('R'):\n",
    "#         del(d[k])\n",
    "        \n",
    "# it does actually delete the first k,v, then throws an exception\n",
    "# if you run it 3 times all the r keys are deleted and it doesn't \n",
    "# throw anymore "
   ]
  },
  {
   "cell_type": "code",
   "execution_count": 21,
   "metadata": {},
   "outputs": [
    {
     "data": {
      "text/plain": [
       "{'Matthew': 'blue'}"
      ]
     },
     "execution_count": 21,
     "metadata": {},
     "output_type": "execute_result"
    }
   ],
   "source": [
    "# he does put up but skip over this - like list comp\n",
    "# for dicts?\n",
    "{k:d[k] for k in d if not k.startswith('R')}"
   ]
  },
  {
   "cell_type": "markdown",
   "metadata": {},
   "source": [
    "### Looping over KV pairs"
   ]
  },
  {
   "cell_type": "code",
   "execution_count": 22,
   "metadata": {},
   "outputs": [
    {
     "name": "stdout",
     "output_type": "stream",
     "text": [
      "Raymond --> red\n",
      "Rachel --> green\n",
      "Matthew --> blue\n"
     ]
    }
   ],
   "source": [
    "# looping over keys and values: trad way, slow\n",
    "for k in d:\n",
    "    print(k,'-->',d[k])"
   ]
  },
  {
   "cell_type": "code",
   "execution_count": 23,
   "metadata": {},
   "outputs": [
    {
     "name": "stdout",
     "output_type": "stream",
     "text": [
      "Raymond --> red\n",
      "Rachel --> green\n",
      "Matthew --> blue\n"
     ]
    }
   ],
   "source": [
    "# good way\n",
    "for k,v in d.items():\n",
    "    print(k,'-->',v)\n",
    "\n",
    "# R talks about iteritems - this was deprecated. \n",
    "# Not sure if it just replaced items, like xrange "
   ]
  },
  {
   "cell_type": "markdown",
   "metadata": {},
   "source": [
    "### Creating a dictionary from pairs"
   ]
  },
  {
   "cell_type": "code",
   "execution_count": 24,
   "metadata": {},
   "outputs": [
    {
     "data": {
      "text/plain": [
       "{'Raymond': 'red', 'Rachel': 'green', 'Matthew': 'blue'}"
      ]
     },
     "execution_count": 24,
     "metadata": {},
     "output_type": "execute_result"
    }
   ],
   "source": [
    "d = dict(zip(names,colors))\n",
    "d"
   ]
  },
  {
   "cell_type": "markdown",
   "metadata": {},
   "source": [
    "### Counting with dictionaries\n"
   ]
  },
  {
   "cell_type": "code",
   "execution_count": 25,
   "metadata": {},
   "outputs": [
    {
     "data": {
      "text/plain": [
       "{'red': 3, 'green': 2, 'blue': 1}"
      ]
     },
     "execution_count": 25,
     "metadata": {},
     "output_type": "execute_result"
    }
   ],
   "source": [
    "# most basic way\n",
    "colors = ['red','green','red','blue','green','red']\n",
    "d = {}\n",
    "for color in colors:\n",
    "    if color not in d:\n",
    "        d[color] = 0\n",
    "    d[color] += 1\n",
    "d"
   ]
  },
  {
   "cell_type": "code",
   "execution_count": 26,
   "metadata": {},
   "outputs": [
    {
     "data": {
      "text/plain": [
       "{'red': 3, 'green': 2, 'blue': 1}"
      ]
     },
     "execution_count": 26,
     "metadata": {},
     "output_type": "execute_result"
    }
   ],
   "source": [
    "# next level: get\n",
    "d = {}\n",
    "for color in colors:\n",
    "    d[color] = d.get(color, 0) + 1\n",
    "    \n",
    "d"
   ]
  },
  {
   "cell_type": "code",
   "execution_count": 27,
   "metadata": {},
   "outputs": [
    {
     "data": {
      "text/plain": [
       "defaultdict(int, {'red': 3, 'green': 2, 'blue': 1})"
      ]
     },
     "execution_count": 27,
     "metadata": {},
     "output_type": "execute_result"
    }
   ],
   "source": [
    "# ultra level - though the last one is still useful\n",
    "from collections import defaultdict\n",
    "d = defaultdict(int)\n",
    "for color in colors:\n",
    "    d[color] += 1\n",
    "d"
   ]
  },
  {
   "cell_type": "markdown",
   "metadata": {},
   "source": [
    "### Grouping with dictionaries"
   ]
  },
  {
   "cell_type": "code",
   "execution_count": 28,
   "metadata": {},
   "outputs": [
    {
     "data": {
      "text/plain": [
       "{7: ['raymond', 'matthew', 'melissa', 'charlie'],\n",
       " 6: ['rachel', 'judith'],\n",
       " 5: ['roger', 'betty']}"
      ]
     },
     "execution_count": 28,
     "metadata": {},
     "output_type": "execute_result"
    }
   ],
   "source": [
    "names = ['raymond','rachel','matthew','roger',\n",
    "        'betty','melissa','judith','charlie']\n",
    "\n",
    "# basic idiom\n",
    "d = {}\n",
    "for name in names:\n",
    "    key = len(name)\n",
    "    if key not in d:\n",
    "        d[key] = []\n",
    "    d[key].append(name)\n",
    "d"
   ]
  },
  {
   "cell_type": "code",
   "execution_count": 29,
   "metadata": {},
   "outputs": [
    {
     "data": {
      "text/plain": [
       "{7: ['raymond', 'matthew', 'melissa', 'charlie'],\n",
       " 6: ['rachel', 'judith'],\n",
       " 5: ['roger', 'betty']}"
      ]
     },
     "execution_count": 29,
     "metadata": {},
     "output_type": "execute_result"
    }
   ],
   "source": [
    "# better way - setdefault - like get but has side effect of \n",
    "# inserting a missing key. Set default is crappy nondescriptive\n",
    "# name, but hey ho\n",
    "d = {}\n",
    "for name in names:\n",
    "    key = len(name)\n",
    "    d.setdefault(key,[]).append(name)\n",
    "d"
   ]
  },
  {
   "cell_type": "code",
   "execution_count": 30,
   "metadata": {},
   "outputs": [
    {
     "data": {
      "text/plain": [
       "defaultdict(list,\n",
       "            {7: ['raymond', 'matthew', 'melissa', 'charlie'],\n",
       "             6: ['rachel', 'judith'],\n",
       "             5: ['roger', 'betty']})"
      ]
     },
     "execution_count": 30,
     "metadata": {},
     "output_type": "execute_result"
    }
   ],
   "source": [
    "# modern way\n",
    "d = defaultdict(list)\n",
    "for name in names:\n",
    "    key = len(name)\n",
    "    d[key].append(name)\n",
    "    \n",
    "d"
   ]
  },
  {
   "cell_type": "markdown",
   "metadata": {},
   "source": [
    "### `popitems()` in dictionaries"
   ]
  },
  {
   "cell_type": "code",
   "execution_count": 31,
   "metadata": {},
   "outputs": [
    {
     "name": "stdout",
     "output_type": "stream",
     "text": [
      "Matthew --> blue\n",
      "Rachel --> green\n",
      "Raymond --> red\n"
     ]
    }
   ],
   "source": [
    "d = {'Raymond': 'red', 'Rachel': 'green', 'Matthew': 'blue'}\n",
    "\n",
    "while d:\n",
    "    key, value = d.popitem()\n",
    "    print(key,'-->',value)\n",
    "    \n",
    "# this is atomic apparently, thats important for threading\n",
    "# apparently"
   ]
  },
  {
   "cell_type": "markdown",
   "metadata": {},
   "source": [
    "### Linking dictionaries with `ChainMap`\n",
    "Not touching this\n"
   ]
  },
  {
   "cell_type": "code",
   "execution_count": 32,
   "metadata": {},
   "outputs": [],
   "source": [
    "import argparse\n",
    "defaults = {'color':'red','user':'guest'}\n",
    "parser = argparse.ArgumentParser()\n",
    "parser.add_argument('-u','--user')\n",
    "parser.add_argument('-c','--color')\n",
    "namespace = parser.parse_args([])\n",
    "command_line_args = {k:v for k,v in\n",
    "                    vars(namespace).items() if v}"
   ]
  },
  {
   "cell_type": "code",
   "execution_count": 33,
   "metadata": {},
   "outputs": [
    {
     "data": {
      "text/plain": [
       "{'color': 'red',\n",
       " 'user': 'guest',\n",
       " 'LS_COLORS': 'rs=0:di=01;34:ln=01;36:mh=00:pi=40;33:so=01;35:do=01;35:bd=40;33;01:cd=40;33;01:or=40;31;01:mi=00:su=37;41:sg=30;43:ca=30;41:tw=30;42:ow=34;42:st=37;44:ex=01;32:*.tar=01;31:*.tgz=01;31:*.arc=01;31:*.arj=01;31:*.taz=01;31:*.lha=01;31:*.lz4=01;31:*.lzh=01;31:*.lzma=01;31:*.tlz=01;31:*.txz=01;31:*.tzo=01;31:*.t7z=01;31:*.zip=01;31:*.z=01;31:*.Z=01;31:*.dz=01;31:*.gz=01;31:*.lrz=01;31:*.lz=01;31:*.lzo=01;31:*.xz=01;31:*.zst=01;31:*.tzst=01;31:*.bz2=01;31:*.bz=01;31:*.tbz=01;31:*.tbz2=01;31:*.tz=01;31:*.deb=01;31:*.rpm=01;31:*.jar=01;31:*.war=01;31:*.ear=01;31:*.sar=01;31:*.rar=01;31:*.alz=01;31:*.ace=01;31:*.zoo=01;31:*.cpio=01;31:*.7z=01;31:*.rz=01;31:*.cab=01;31:*.wim=01;31:*.swm=01;31:*.dwm=01;31:*.esd=01;31:*.jpg=01;35:*.jpeg=01;35:*.mjpg=01;35:*.mjpeg=01;35:*.gif=01;35:*.bmp=01;35:*.pbm=01;35:*.pgm=01;35:*.ppm=01;35:*.tga=01;35:*.xbm=01;35:*.xpm=01;35:*.tif=01;35:*.tiff=01;35:*.png=01;35:*.svg=01;35:*.svgz=01;35:*.mng=01;35:*.pcx=01;35:*.mov=01;35:*.mpg=01;35:*.mpeg=01;35:*.m2v=01;35:*.mkv=01;35:*.webm=01;35:*.ogm=01;35:*.mp4=01;35:*.m4v=01;35:*.mp4v=01;35:*.vob=01;35:*.qt=01;35:*.nuv=01;35:*.wmv=01;35:*.asf=01;35:*.rm=01;35:*.rmvb=01;35:*.flc=01;35:*.avi=01;35:*.fli=01;35:*.flv=01;35:*.gl=01;35:*.dl=01;35:*.xcf=01;35:*.xwd=01;35:*.yuv=01;35:*.cgm=01;35:*.emf=01;35:*.ogv=01;35:*.ogx=01;35:*.aac=00;36:*.au=00;36:*.flac=00;36:*.m4a=00;36:*.mid=00;36:*.midi=00;36:*.mka=00;36:*.mp3=00;36:*.mpc=00;36:*.ogg=00;36:*.ra=00;36:*.wav=00;36:*.oga=00;36:*.opus=00;36:*.spx=00;36:*.xspf=00;36:',\n",
       " 'LESSCLOSE': '/usr/bin/lesspipe %s %s',\n",
       " 'LANG': 'en_SG.UTF-8',\n",
       " 'DISPLAY': ':0',\n",
       " 'OLDPWD': '/home/joe/programming/tutorials',\n",
       " 'GDK_SCALE': '2',\n",
       " 'COLORTERM': 'truecolor',\n",
       " 'USERNAME': 'joe',\n",
       " 'XDG_VTNR': '2',\n",
       " 'SSH_AUTH_SOCK': '/tmp/ssh-HRfuNhT29MTV/agent.2317',\n",
       " 'VIRTUAL_ENV': '/home/joe/programming/tutorials/misc_py_tuts/venv',\n",
       " 'XDG_SESSION_ID': '2',\n",
       " 'USER': 'joe',\n",
       " 'DESKTOP_SESSION': 'i3',\n",
       " 'GDK_DPI_SCALE': '0.5',\n",
       " 'GNOME_TERMINAL_SCREEN': '/org/gnome/Terminal/screen/487b0b99_54b5_4fac_9362_71c3fe1db979',\n",
       " 'PWD': '/home/joe/programming/tutorials/misc_py_tuts',\n",
       " 'HOME': '/home/joe',\n",
       " 'SSH_AGENT_PID': '2403',\n",
       " 'QT_ACCESSIBILITY': '1',\n",
       " 'XDG_SESSION_TYPE': 'x11',\n",
       " 'XDG_DATA_DIRS': '/usr/share/i3:/usr/local/share:/usr/share:/var/lib/snapd/desktop',\n",
       " 'XDG_SESSION_DESKTOP': 'i3',\n",
       " 'GTK_MODULES': 'gail:atk-bridge',\n",
       " 'WINDOWPATH': '2',\n",
       " 'TERM': 'xterm-color',\n",
       " 'SHELL': '/bin/bash',\n",
       " 'VTE_VERSION': '5401',\n",
       " 'XDG_CURRENT_DESKTOP': 'i3',\n",
       " 'GPG_AGENT_INFO': '/run/user/1000/gnupg/S.gpg-agent:0:1',\n",
       " 'GNOME_TERMINAL_SERVICE': ':1.47',\n",
       " 'XDG_SEAT': 'seat0',\n",
       " 'SHLVL': '1',\n",
       " 'LANGUAGE': 'en_SG:en',\n",
       " 'GDMSESSION': 'i3',\n",
       " 'LOGNAME': 'joe',\n",
       " 'DBUS_SESSION_BUS_ADDRESS': 'unix:path=/run/user/1000/bus',\n",
       " 'XDG_RUNTIME_DIR': '/run/user/1000',\n",
       " 'XAUTHORITY': '/run/user/1000/gdm/Xauthority',\n",
       " 'QT_AUTO_SCREEN_SCALE_FACTOR': '1',\n",
       " 'XDG_CONFIG_DIRS': '/etc/xdg/xdg-i3:/etc/xdg',\n",
       " 'PATH': '/home/joe/programming/tutorials/misc_py_tuts/venv/bin:/home/joe/programming/tutorials/misc_py_tuts/venv/bin:/usr/local/sbin:/usr/local/bin:/usr/sbin:/usr/bin:/sbin:/bin:/usr/games:/usr/local/games:/snap/bin:~/terraform',\n",
       " 'PS1': '(venv) \\\\[\\\\e]0;\\\\u@\\\\h: \\\\w\\\\a\\\\]${debian_chroot:+($debian_chroot)}\\\\[\\\\033[01;32m\\\\]\\\\u@\\\\h\\\\[\\\\033[00m\\\\]:\\\\[\\\\033[01;34m\\\\]\\\\w\\\\[\\\\033[00m\\\\]\\\\$ ',\n",
       " 'LESSOPEN': '| /usr/bin/lesspipe %s',\n",
       " '_': '/home/joe/programming/tutorials/misc_py_tuts/venv/bin/jupyter',\n",
       " 'JPY_PARENT_PID': '19712',\n",
       " 'CLICOLOR': '1',\n",
       " 'PAGER': 'cat',\n",
       " 'GIT_PAGER': 'cat',\n",
       " 'MPLBACKEND': 'module://ipykernel.pylab.backend_inline'}"
      ]
     },
     "execution_count": 33,
     "metadata": {},
     "output_type": "execute_result"
    }
   ],
   "source": [
    "import os\n",
    "d = defaults.copy()\n",
    "d.update(os.environ)\n",
    "d.update(command_line_args)\n",
    "d\n",
    "# this is bad apparently because it copies like crazy"
   ]
  },
  {
   "cell_type": "code",
   "execution_count": 34,
   "metadata": {},
   "outputs": [
    {
     "data": {
      "text/plain": [
       "ChainMap({}, environ({'LS_COLORS': 'rs=0:di=01;34:ln=01;36:mh=00:pi=40;33:so=01;35:do=01;35:bd=40;33;01:cd=40;33;01:or=40;31;01:mi=00:su=37;41:sg=30;43:ca=30;41:tw=30;42:ow=34;42:st=37;44:ex=01;32:*.tar=01;31:*.tgz=01;31:*.arc=01;31:*.arj=01;31:*.taz=01;31:*.lha=01;31:*.lz4=01;31:*.lzh=01;31:*.lzma=01;31:*.tlz=01;31:*.txz=01;31:*.tzo=01;31:*.t7z=01;31:*.zip=01;31:*.z=01;31:*.Z=01;31:*.dz=01;31:*.gz=01;31:*.lrz=01;31:*.lz=01;31:*.lzo=01;31:*.xz=01;31:*.zst=01;31:*.tzst=01;31:*.bz2=01;31:*.bz=01;31:*.tbz=01;31:*.tbz2=01;31:*.tz=01;31:*.deb=01;31:*.rpm=01;31:*.jar=01;31:*.war=01;31:*.ear=01;31:*.sar=01;31:*.rar=01;31:*.alz=01;31:*.ace=01;31:*.zoo=01;31:*.cpio=01;31:*.7z=01;31:*.rz=01;31:*.cab=01;31:*.wim=01;31:*.swm=01;31:*.dwm=01;31:*.esd=01;31:*.jpg=01;35:*.jpeg=01;35:*.mjpg=01;35:*.mjpeg=01;35:*.gif=01;35:*.bmp=01;35:*.pbm=01;35:*.pgm=01;35:*.ppm=01;35:*.tga=01;35:*.xbm=01;35:*.xpm=01;35:*.tif=01;35:*.tiff=01;35:*.png=01;35:*.svg=01;35:*.svgz=01;35:*.mng=01;35:*.pcx=01;35:*.mov=01;35:*.mpg=01;35:*.mpeg=01;35:*.m2v=01;35:*.mkv=01;35:*.webm=01;35:*.ogm=01;35:*.mp4=01;35:*.m4v=01;35:*.mp4v=01;35:*.vob=01;35:*.qt=01;35:*.nuv=01;35:*.wmv=01;35:*.asf=01;35:*.rm=01;35:*.rmvb=01;35:*.flc=01;35:*.avi=01;35:*.fli=01;35:*.flv=01;35:*.gl=01;35:*.dl=01;35:*.xcf=01;35:*.xwd=01;35:*.yuv=01;35:*.cgm=01;35:*.emf=01;35:*.ogv=01;35:*.ogx=01;35:*.aac=00;36:*.au=00;36:*.flac=00;36:*.m4a=00;36:*.mid=00;36:*.midi=00;36:*.mka=00;36:*.mp3=00;36:*.mpc=00;36:*.ogg=00;36:*.ra=00;36:*.wav=00;36:*.oga=00;36:*.opus=00;36:*.spx=00;36:*.xspf=00;36:', 'LESSCLOSE': '/usr/bin/lesspipe %s %s', 'LANG': 'en_SG.UTF-8', 'DISPLAY': ':0', 'OLDPWD': '/home/joe/programming/tutorials', 'GDK_SCALE': '2', 'COLORTERM': 'truecolor', 'USERNAME': 'joe', 'XDG_VTNR': '2', 'SSH_AUTH_SOCK': '/tmp/ssh-HRfuNhT29MTV/agent.2317', 'VIRTUAL_ENV': '/home/joe/programming/tutorials/misc_py_tuts/venv', 'XDG_SESSION_ID': '2', 'USER': 'joe', 'DESKTOP_SESSION': 'i3', 'GDK_DPI_SCALE': '0.5', 'GNOME_TERMINAL_SCREEN': '/org/gnome/Terminal/screen/487b0b99_54b5_4fac_9362_71c3fe1db979', 'PWD': '/home/joe/programming/tutorials/misc_py_tuts', 'HOME': '/home/joe', 'SSH_AGENT_PID': '2403', 'QT_ACCESSIBILITY': '1', 'XDG_SESSION_TYPE': 'x11', 'XDG_DATA_DIRS': '/usr/share/i3:/usr/local/share:/usr/share:/var/lib/snapd/desktop', 'XDG_SESSION_DESKTOP': 'i3', 'GTK_MODULES': 'gail:atk-bridge', 'WINDOWPATH': '2', 'TERM': 'xterm-color', 'SHELL': '/bin/bash', 'VTE_VERSION': '5401', 'XDG_CURRENT_DESKTOP': 'i3', 'GPG_AGENT_INFO': '/run/user/1000/gnupg/S.gpg-agent:0:1', 'GNOME_TERMINAL_SERVICE': ':1.47', 'XDG_SEAT': 'seat0', 'SHLVL': '1', 'LANGUAGE': 'en_SG:en', 'GDMSESSION': 'i3', 'LOGNAME': 'joe', 'DBUS_SESSION_BUS_ADDRESS': 'unix:path=/run/user/1000/bus', 'XDG_RUNTIME_DIR': '/run/user/1000', 'XAUTHORITY': '/run/user/1000/gdm/Xauthority', 'QT_AUTO_SCREEN_SCALE_FACTOR': '1', 'XDG_CONFIG_DIRS': '/etc/xdg/xdg-i3:/etc/xdg', 'PATH': '/home/joe/programming/tutorials/misc_py_tuts/venv/bin:/home/joe/programming/tutorials/misc_py_tuts/venv/bin:/usr/local/sbin:/usr/local/bin:/usr/sbin:/usr/bin:/sbin:/bin:/usr/games:/usr/local/games:/snap/bin:~/terraform', 'PS1': '(venv) \\\\[\\\\e]0;\\\\u@\\\\h: \\\\w\\\\a\\\\]${debian_chroot:+($debian_chroot)}\\\\[\\\\033[01;32m\\\\]\\\\u@\\\\h\\\\[\\\\033[00m\\\\]:\\\\[\\\\033[01;34m\\\\]\\\\w\\\\[\\\\033[00m\\\\]\\\\$ ', 'LESSOPEN': '| /usr/bin/lesspipe %s', '_': '/home/joe/programming/tutorials/misc_py_tuts/venv/bin/jupyter', 'JPY_PARENT_PID': '19712', 'CLICOLOR': '1', 'PAGER': 'cat', 'GIT_PAGER': 'cat', 'MPLBACKEND': 'module://ipykernel.pylab.backend_inline'}), {'color': 'red', 'user': 'guest'})"
      ]
     },
     "execution_count": 34,
     "metadata": {},
     "output_type": "execute_result"
    }
   ],
   "source": [
    "from collections import ChainMap\n",
    "d = ChainMap(command_line_args, os.environ, defaults)\n",
    "d"
   ]
  },
  {
   "cell_type": "markdown",
   "metadata": {},
   "source": [
    "## other\n",
    "### Put keywords args in all your functions\n",
    "\n",
    "### Named Tuples\n",
    "are better than tuples to make your outputs (including error messages)more readable. Subclass of tuples\n"
   ]
  },
  {
   "cell_type": "code",
   "execution_count": 35,
   "metadata": {},
   "outputs": [
    {
     "data": {
      "text/plain": [
       "(0, 4)"
      ]
     },
     "execution_count": 35,
     "metadata": {},
     "output_type": "execute_result"
    }
   ],
   "source": [
    "TestResults = (0,4)\n",
    "TestResults"
   ]
  },
  {
   "cell_type": "code",
   "execution_count": 36,
   "metadata": {},
   "outputs": [
    {
     "data": {
      "text/plain": [
       "__main__.TestResults"
      ]
     },
     "execution_count": 36,
     "metadata": {},
     "output_type": "execute_result"
    }
   ],
   "source": [
    "from collections import namedtuple\n",
    "TestResults = namedtuple('TestResults',['failed','attempted'])\n",
    "TestResults\n",
    "# not sure I'm doing that right"
   ]
  },
  {
   "cell_type": "markdown",
   "metadata": {},
   "source": [
    "### Getting values from a sequence"
   ]
  },
  {
   "cell_type": "code",
   "execution_count": 37,
   "metadata": {},
   "outputs": [],
   "source": [
    "p = 'Raymond', 'Hettinger', 0x30, 'python@example.com'\n",
    "# note this is tuple- apparently () are optional"
   ]
  },
  {
   "cell_type": "code",
   "execution_count": 38,
   "metadata": {},
   "outputs": [
    {
     "data": {
      "text/plain": [
       "'Raymond'"
      ]
     },
     "execution_count": 38,
     "metadata": {},
     "output_type": "execute_result"
    }
   ],
   "source": [
    "# sucky way\n",
    "fname = p[0]\n",
    "lname = p[1]\n",
    "age = p[2]\n",
    "email = p[3]\n",
    "fname"
   ]
  },
  {
   "cell_type": "code",
   "execution_count": 39,
   "metadata": {},
   "outputs": [
    {
     "data": {
      "text/plain": [
       "'Raymond'"
      ]
     },
     "execution_count": 39,
     "metadata": {},
     "output_type": "execute_result"
    }
   ],
   "source": [
    "# smart way\n",
    "fname,lname,age,email = p\n",
    "fname"
   ]
  },
  {
   "cell_type": "markdown",
   "metadata": {},
   "source": [
    "### simultaneous updates\n",
    "Very important - eliminated entire class or errors due to out of order updates. Allows high level thinking; 'chunking', thinking in Excel 'rows' "
   ]
  },
  {
   "cell_type": "code",
   "execution_count": 40,
   "metadata": {},
   "outputs": [
    {
     "name": "stdout",
     "output_type": "stream",
     "text": [
      "0\n",
      "1\n",
      "1\n",
      "2\n",
      "3\n",
      "5\n",
      "8\n",
      "13\n",
      "21\n",
      "34\n"
     ]
    }
   ],
   "source": [
    "# dunder way\n",
    "def fibonacci(n):\n",
    "    x=0\n",
    "    y=1\n",
    "    for i in range(n):\n",
    "        print(x)\n",
    "        t=y\n",
    "        y=x+y\n",
    "        x=t\n",
    "\n",
    "fibonacci(10)"
   ]
  },
  {
   "cell_type": "code",
   "execution_count": 41,
   "metadata": {},
   "outputs": [
    {
     "name": "stdout",
     "output_type": "stream",
     "text": [
      "0\n",
      "1\n",
      "1\n",
      "2\n",
      "3\n",
      "5\n",
      "8\n",
      "13\n",
      "21\n",
      "34\n"
     ]
    }
   ],
   "source": [
    "# smart way\n",
    "def fibonacci(n):\n",
    "    x,y = 0,1\n",
    "    for i in range(n):\n",
    "        print(x)\n",
    "        x,y = y,x+y \n",
    "        # this is the simultaneous updates\n",
    "\n",
    "fibonacci(10)"
   ]
  },
  {
   "cell_type": "markdown",
   "metadata": {},
   "source": [
    "Don't add strings with +, use join.\n",
    "\n",
    "for lists, if you see `del names[0]`, `names.pop(0)`, or `names.insert(0,'mark')`, you're doing it wrong\n",
    "\n",
    "the correct data structure is `deque`"
   ]
  },
  {
   "cell_type": "code",
   "execution_count": 42,
   "metadata": {},
   "outputs": [],
   "source": [
    "from collections import deque\n",
    "\n",
    "names = deque(['raymond','rachel','matthew','roger',\n",
    "        'betty','melissa','judith','charlie'])\n",
    "\n",
    "del names[0]"
   ]
  },
  {
   "cell_type": "code",
   "execution_count": 43,
   "metadata": {},
   "outputs": [
    {
     "data": {
      "text/plain": [
       "'rachel'"
      ]
     },
     "execution_count": 43,
     "metadata": {},
     "output_type": "execute_result"
    }
   ],
   "source": [
    "names.popleft()"
   ]
  },
  {
   "cell_type": "code",
   "execution_count": 44,
   "metadata": {},
   "outputs": [],
   "source": [
    "names.appendleft('mark')"
   ]
  },
  {
   "cell_type": "code",
   "execution_count": 45,
   "metadata": {},
   "outputs": [
    {
     "data": {
      "text/plain": [
       "deque(['mark', 'matthew', 'roger', 'betty', 'melissa', 'judith', 'charlie'])"
      ]
     },
     "execution_count": 45,
     "metadata": {},
     "output_type": "execute_result"
    }
   ],
   "source": [
    "names"
   ]
  },
  {
   "cell_type": "markdown",
   "metadata": {},
   "source": [
    "Decorators and context managers rock. Good naming is essential. Use wisely"
   ]
  },
  {
   "cell_type": "code",
   "execution_count": 46,
   "metadata": {},
   "outputs": [],
   "source": [
    "def web_lookup(url, saved={}):\n",
    "    if url in saved:\n",
    "        return saved[url]\n",
    "    page = urllib.urlopen(url).read()\n",
    "    saved[url]=page\n",
    "    return page"
   ]
  },
  {
   "cell_type": "markdown",
   "metadata": {},
   "source": [
    "This has an business logic part (opening a url and returning a webpage) and an admin component (cacheing the webpage for future use and returning the cached version if it exists.\n",
    "\n",
    "This is usually a bad idea - mixes logic types and cache logic is not reusable. should be"
   ]
  },
  {
   "cell_type": "code",
   "execution_count": 47,
   "metadata": {},
   "outputs": [],
   "source": [
    "def cache(func):\n",
    "    saved = {}\n",
    "    def wrap(*args):\n",
    "        if args in saved:\n",
    "            return wrap(*args)\n",
    "        result = func(*args)\n",
    "        saved[args] = result\n",
    "        return result\n",
    "    return wrap\n",
    "\n",
    "@cache\n",
    "def web_lookup(url):\n",
    "    return urllib.urlopen(url).read()"
   ]
  }
 ],
 "metadata": {
  "kernelspec": {
   "display_name": "Python 3",
   "language": "python",
   "name": "python3"
  },
  "language_info": {
   "codemirror_mode": {
    "name": "ipython",
    "version": 3
   },
   "file_extension": ".py",
   "mimetype": "text/x-python",
   "name": "python",
   "nbconvert_exporter": "python",
   "pygments_lexer": "ipython3",
   "version": "3.6.7"
  }
 },
 "nbformat": 4,
 "nbformat_minor": 2
}
